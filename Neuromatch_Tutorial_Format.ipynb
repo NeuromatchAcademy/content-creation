{
  "nbformat": 4,
  "nbformat_minor": 0,
  "metadata": {
    "colab": {
      "name": "NeuromatchAcademy_Neuromatch_Tutorial_Format",
      "provenance": [],
      "toc_visible": true,
      "include_colab_link": true
    },
    "kernelspec": {
      "display_name": "Python 3",
      "language": "python",
      "name": "python3"
    },
    "language_info": {
      "codemirror_mode": {
        "name": "ipython",
        "version": 3
      },
      "file_extension": ".py",
      "mimetype": "text/x-python",
      "name": "python",
      "nbconvert_exporter": "python",
      "pygments_lexer": "ipython3",
      "version": "3.7.3"
    },
    "toc-autonumbering": true,
    "widgets": {
      "application/vnd.jupyter.widget-state+json": {
        "ea83cee0971641a69df5f9cbf9c079f8": {
          "model_module": "@jupyter-widgets/controls",
          "model_name": "TabModel",
          "model_module_version": "1.5.0",
          "state": {
            "_dom_classes": [],
            "_model_module": "@jupyter-widgets/controls",
            "_model_module_version": "1.5.0",
            "_model_name": "TabModel",
            "_titles": {
              "0": "Youtube",
              "1": "Bilibili",
              "2": "Osf"
            },
            "_view_count": null,
            "_view_module": "@jupyter-widgets/controls",
            "_view_module_version": "1.5.0",
            "_view_name": "TabView",
            "box_style": "",
            "children": [
              "IPY_MODEL_21f76821fded4d10abdce06d65040d70",
              "IPY_MODEL_75cd516a587446c7875c462dd2aecf06",
              "IPY_MODEL_965e3035780b4ab58171aa3a2632109a"
            ],
            "layout": "IPY_MODEL_f4fc00ec214a4913b6ec9b95f689f451",
            "selected_index": 0
          }
        },
        "21f76821fded4d10abdce06d65040d70": {
          "model_module": "@jupyter-widgets/output",
          "model_name": "OutputModel",
          "model_module_version": "1.0.0",
          "state": {
            "_dom_classes": [],
            "_model_module": "@jupyter-widgets/output",
            "_model_module_version": "1.0.0",
            "_model_name": "OutputModel",
            "_view_count": null,
            "_view_module": "@jupyter-widgets/output",
            "_view_module_version": "1.0.0",
            "_view_name": "OutputView",
            "layout": "IPY_MODEL_bbe761d9bd214b8b83d207587e303804",
            "msg_id": "",
            "outputs": [
              {
                "output_type": "stream",
                "name": "stdout",
                "text": [
                  "Video available at https://youtube.com/watch?v=<video_id_1>\n"
                ]
              },
              {
                "output_type": "display_data",
                "data": {
                  "text/plain": "<IPython.lib.display.YouTubeVideo at 0x7fcbf0b38430>",
                  "text/html": "\n        <iframe\n            width=\"854\"\n            height=\"480\"\n            src=\"https://www.youtube.com/embed/<video_id_1>?fs=1&rel=0\"\n            frameborder=\"0\"\n            allowfullscreen\n            \n        ></iframe>\n        "
                },
                "metadata": {}
              }
            ]
          }
        },
        "75cd516a587446c7875c462dd2aecf06": {
          "model_module": "@jupyter-widgets/output",
          "model_name": "OutputModel",
          "model_module_version": "1.0.0",
          "state": {
            "_dom_classes": [],
            "_model_module": "@jupyter-widgets/output",
            "_model_module_version": "1.0.0",
            "_model_name": "OutputModel",
            "_view_count": null,
            "_view_module": "@jupyter-widgets/output",
            "_view_module_version": "1.0.0",
            "_view_name": "OutputView",
            "layout": "IPY_MODEL_f7617f8a9a9b42709644e5439412a60d",
            "msg_id": "",
            "outputs": [
              {
                "output_type": "stream",
                "name": "stdout",
                "text": [
                  "Video available at https://www.bilibili.com/video/<video_id_2>\n"
                ]
              },
              {
                "output_type": "display_data",
                "data": {
                  "text/plain": "<__main__.PlayVideo at 0x7fcbf0b38640>",
                  "text/html": "\n        <iframe\n            width=\"854\"\n            height=\"480\"\n            src=\"https://player.bilibili.com/player.html?bvid=<video_id_2>&page=1?fs=1&autoplay=False\"\n            frameborder=\"0\"\n            allowfullscreen\n            \n        ></iframe>\n        "
                },
                "metadata": {}
              }
            ]
          }
        },
        "965e3035780b4ab58171aa3a2632109a": {
          "model_module": "@jupyter-widgets/output",
          "model_name": "OutputModel",
          "model_module_version": "1.0.0",
          "state": {
            "_dom_classes": [],
            "_model_module": "@jupyter-widgets/output",
            "_model_module_version": "1.0.0",
            "_model_name": "OutputModel",
            "_view_count": null,
            "_view_module": "@jupyter-widgets/output",
            "_view_module_version": "1.0.0",
            "_view_name": "OutputView",
            "layout": "IPY_MODEL_3a545682721846efaf17e214f8cda7ce",
            "msg_id": "",
            "outputs": [
              {
                "output_type": "stream",
                "name": "stdout",
                "text": [
                  "Video available at https://osf.io/<video_id_3>\n"
                ]
              },
              {
                "output_type": "display_data",
                "data": {
                  "text/plain": "<__main__.PlayVideo at 0x7fcbf0b386a0>",
                  "text/html": "\n        <iframe\n            width=\"854\"\n            height=\"480\"\n            src=\"https://mfr.ca-1.osf.io/render?url=https://osf.io/download/<video_id_3>/?direct%26mode=render?fs=1&autoplay=False\"\n            frameborder=\"0\"\n            allowfullscreen\n            \n        ></iframe>\n        "
                },
                "metadata": {}
              }
            ]
          }
        },
        "f4fc00ec214a4913b6ec9b95f689f451": {
          "model_module": "@jupyter-widgets/base",
          "model_name": "LayoutModel",
          "model_module_version": "1.2.0",
          "state": {
            "_model_module": "@jupyter-widgets/base",
            "_model_module_version": "1.2.0",
            "_model_name": "LayoutModel",
            "_view_count": null,
            "_view_module": "@jupyter-widgets/base",
            "_view_module_version": "1.2.0",
            "_view_name": "LayoutView",
            "align_content": null,
            "align_items": null,
            "align_self": null,
            "border": null,
            "bottom": null,
            "display": null,
            "flex": null,
            "flex_flow": null,
            "grid_area": null,
            "grid_auto_columns": null,
            "grid_auto_flow": null,
            "grid_auto_rows": null,
            "grid_column": null,
            "grid_gap": null,
            "grid_row": null,
            "grid_template_areas": null,
            "grid_template_columns": null,
            "grid_template_rows": null,
            "height": null,
            "justify_content": null,
            "justify_items": null,
            "left": null,
            "margin": null,
            "max_height": null,
            "max_width": null,
            "min_height": null,
            "min_width": null,
            "object_fit": null,
            "object_position": null,
            "order": null,
            "overflow": null,
            "overflow_x": null,
            "overflow_y": null,
            "padding": null,
            "right": null,
            "top": null,
            "visibility": null,
            "width": null
          }
        },
        "bbe761d9bd214b8b83d207587e303804": {
          "model_module": "@jupyter-widgets/base",
          "model_name": "LayoutModel",
          "model_module_version": "1.2.0",
          "state": {
            "_model_module": "@jupyter-widgets/base",
            "_model_module_version": "1.2.0",
            "_model_name": "LayoutModel",
            "_view_count": null,
            "_view_module": "@jupyter-widgets/base",
            "_view_module_version": "1.2.0",
            "_view_name": "LayoutView",
            "align_content": null,
            "align_items": null,
            "align_self": null,
            "border": null,
            "bottom": null,
            "display": null,
            "flex": null,
            "flex_flow": null,
            "grid_area": null,
            "grid_auto_columns": null,
            "grid_auto_flow": null,
            "grid_auto_rows": null,
            "grid_column": null,
            "grid_gap": null,
            "grid_row": null,
            "grid_template_areas": null,
            "grid_template_columns": null,
            "grid_template_rows": null,
            "height": null,
            "justify_content": null,
            "justify_items": null,
            "left": null,
            "margin": null,
            "max_height": null,
            "max_width": null,
            "min_height": null,
            "min_width": null,
            "object_fit": null,
            "object_position": null,
            "order": null,
            "overflow": null,
            "overflow_x": null,
            "overflow_y": null,
            "padding": null,
            "right": null,
            "top": null,
            "visibility": null,
            "width": null
          }
        },
        "f7617f8a9a9b42709644e5439412a60d": {
          "model_module": "@jupyter-widgets/base",
          "model_name": "LayoutModel",
          "model_module_version": "1.2.0",
          "state": {
            "_model_module": "@jupyter-widgets/base",
            "_model_module_version": "1.2.0",
            "_model_name": "LayoutModel",
            "_view_count": null,
            "_view_module": "@jupyter-widgets/base",
            "_view_module_version": "1.2.0",
            "_view_name": "LayoutView",
            "align_content": null,
            "align_items": null,
            "align_self": null,
            "border": null,
            "bottom": null,
            "display": null,
            "flex": null,
            "flex_flow": null,
            "grid_area": null,
            "grid_auto_columns": null,
            "grid_auto_flow": null,
            "grid_auto_rows": null,
            "grid_column": null,
            "grid_gap": null,
            "grid_row": null,
            "grid_template_areas": null,
            "grid_template_columns": null,
            "grid_template_rows": null,
            "height": null,
            "justify_content": null,
            "justify_items": null,
            "left": null,
            "margin": null,
            "max_height": null,
            "max_width": null,
            "min_height": null,
            "min_width": null,
            "object_fit": null,
            "object_position": null,
            "order": null,
            "overflow": null,
            "overflow_x": null,
            "overflow_y": null,
            "padding": null,
            "right": null,
            "top": null,
            "visibility": null,
            "width": null
          }
        },
        "3a545682721846efaf17e214f8cda7ce": {
          "model_module": "@jupyter-widgets/base",
          "model_name": "LayoutModel",
          "model_module_version": "1.2.0",
          "state": {
            "_model_module": "@jupyter-widgets/base",
            "_model_module_version": "1.2.0",
            "_model_name": "LayoutModel",
            "_view_count": null,
            "_view_module": "@jupyter-widgets/base",
            "_view_module_version": "1.2.0",
            "_view_name": "LayoutView",
            "align_content": null,
            "align_items": null,
            "align_self": null,
            "border": null,
            "bottom": null,
            "display": null,
            "flex": null,
            "flex_flow": null,
            "grid_area": null,
            "grid_auto_columns": null,
            "grid_auto_flow": null,
            "grid_auto_rows": null,
            "grid_column": null,
            "grid_gap": null,
            "grid_row": null,
            "grid_template_areas": null,
            "grid_template_columns": null,
            "grid_template_rows": null,
            "height": null,
            "justify_content": null,
            "justify_items": null,
            "left": null,
            "margin": null,
            "max_height": null,
            "max_width": null,
            "min_height": null,
            "min_width": null,
            "object_fit": null,
            "object_position": null,
            "order": null,
            "overflow": null,
            "overflow_x": null,
            "overflow_y": null,
            "padding": null,
            "right": null,
            "top": null,
            "visibility": null,
            "width": null
          }
        },
        "5ffda861400a4cf0980dadcd6af2bbde": {
          "model_module": "@jupyter-widgets/controls",
          "model_name": "VBoxModel",
          "model_module_version": "1.5.0",
          "state": {
            "_dom_classes": [
              "widget-interact"
            ],
            "_model_module": "@jupyter-widgets/controls",
            "_model_module_version": "1.5.0",
            "_model_name": "VBoxModel",
            "_view_count": null,
            "_view_module": "@jupyter-widgets/controls",
            "_view_module_version": "1.5.0",
            "_view_name": "VBoxView",
            "box_style": "",
            "children": [
              "IPY_MODEL_3b92c17d512d4890b6086c68177f296c",
              "IPY_MODEL_dc9161fcfec8424d86704bb4e86f9899",
              "IPY_MODEL_9ade99ceabe64e0ba0d24aa1436f51b4"
            ],
            "layout": "IPY_MODEL_ee23245de7bf42bb94cb16d43552eb28"
          }
        },
        "3b92c17d512d4890b6086c68177f296c": {
          "model_module": "@jupyter-widgets/controls",
          "model_name": "FloatSliderModel",
          "model_module_version": "1.5.0",
          "state": {
            "_dom_classes": [],
            "_model_module": "@jupyter-widgets/controls",
            "_model_module_version": "1.5.0",
            "_model_name": "FloatSliderModel",
            "_view_count": null,
            "_view_module": "@jupyter-widgets/controls",
            "_view_module_version": "1.5.0",
            "_view_name": "FloatSliderView",
            "continuous_update": true,
            "description": "mean",
            "description_tooltip": null,
            "disabled": false,
            "layout": "IPY_MODEL_779a16da50bc44f48004ac2c2a8f4936",
            "max": 10,
            "min": -10,
            "orientation": "horizontal",
            "readout": true,
            "readout_format": ".2f",
            "step": 0.5,
            "style": "IPY_MODEL_f1dad9f286ab4f21bb10c02306aad12e",
            "value": 0
          }
        },
        "dc9161fcfec8424d86704bb4e86f9899": {
          "model_module": "@jupyter-widgets/controls",
          "model_name": "FloatSliderModel",
          "model_module_version": "1.5.0",
          "state": {
            "_dom_classes": [],
            "_model_module": "@jupyter-widgets/controls",
            "_model_module_version": "1.5.0",
            "_model_name": "FloatSliderModel",
            "_view_count": null,
            "_view_module": "@jupyter-widgets/controls",
            "_view_module_version": "1.5.0",
            "_view_name": "FloatSliderView",
            "continuous_update": true,
            "description": "std",
            "description_tooltip": null,
            "disabled": false,
            "layout": "IPY_MODEL_41a7a1ff66d24cc4a6e8cd2e7e94aabd",
            "max": 10,
            "min": 0.5,
            "orientation": "horizontal",
            "readout": true,
            "readout_format": ".2f",
            "step": 0.5,
            "style": "IPY_MODEL_aa76dfe6ff5348f09d8245fee7455439",
            "value": 5
          }
        },
        "9ade99ceabe64e0ba0d24aa1436f51b4": {
          "model_module": "@jupyter-widgets/output",
          "model_name": "OutputModel",
          "model_module_version": "1.0.0",
          "state": {
            "_dom_classes": [],
            "_model_module": "@jupyter-widgets/output",
            "_model_module_version": "1.0.0",
            "_model_name": "OutputModel",
            "_view_count": null,
            "_view_module": "@jupyter-widgets/output",
            "_view_module_version": "1.0.0",
            "_view_name": "OutputView",
            "layout": "IPY_MODEL_c4a561ab3b724849b68b6283630f45fd",
            "msg_id": "",
            "outputs": []
          }
        },
        "ee23245de7bf42bb94cb16d43552eb28": {
          "model_module": "@jupyter-widgets/base",
          "model_name": "LayoutModel",
          "model_module_version": "1.2.0",
          "state": {
            "_model_module": "@jupyter-widgets/base",
            "_model_module_version": "1.2.0",
            "_model_name": "LayoutModel",
            "_view_count": null,
            "_view_module": "@jupyter-widgets/base",
            "_view_module_version": "1.2.0",
            "_view_name": "LayoutView",
            "align_content": null,
            "align_items": null,
            "align_self": null,
            "border": null,
            "bottom": null,
            "display": null,
            "flex": null,
            "flex_flow": null,
            "grid_area": null,
            "grid_auto_columns": null,
            "grid_auto_flow": null,
            "grid_auto_rows": null,
            "grid_column": null,
            "grid_gap": null,
            "grid_row": null,
            "grid_template_areas": null,
            "grid_template_columns": null,
            "grid_template_rows": null,
            "height": null,
            "justify_content": null,
            "justify_items": null,
            "left": null,
            "margin": null,
            "max_height": null,
            "max_width": null,
            "min_height": null,
            "min_width": null,
            "object_fit": null,
            "object_position": null,
            "order": null,
            "overflow": null,
            "overflow_x": null,
            "overflow_y": null,
            "padding": null,
            "right": null,
            "top": null,
            "visibility": null,
            "width": null
          }
        },
        "779a16da50bc44f48004ac2c2a8f4936": {
          "model_module": "@jupyter-widgets/base",
          "model_name": "LayoutModel",
          "model_module_version": "1.2.0",
          "state": {
            "_model_module": "@jupyter-widgets/base",
            "_model_module_version": "1.2.0",
            "_model_name": "LayoutModel",
            "_view_count": null,
            "_view_module": "@jupyter-widgets/base",
            "_view_module_version": "1.2.0",
            "_view_name": "LayoutView",
            "align_content": null,
            "align_items": null,
            "align_self": null,
            "border": null,
            "bottom": null,
            "display": null,
            "flex": null,
            "flex_flow": null,
            "grid_area": null,
            "grid_auto_columns": null,
            "grid_auto_flow": null,
            "grid_auto_rows": null,
            "grid_column": null,
            "grid_gap": null,
            "grid_row": null,
            "grid_template_areas": null,
            "grid_template_columns": null,
            "grid_template_rows": null,
            "height": null,
            "justify_content": null,
            "justify_items": null,
            "left": null,
            "margin": null,
            "max_height": null,
            "max_width": null,
            "min_height": null,
            "min_width": null,
            "object_fit": null,
            "object_position": null,
            "order": null,
            "overflow": null,
            "overflow_x": null,
            "overflow_y": null,
            "padding": null,
            "right": null,
            "top": null,
            "visibility": null,
            "width": null
          }
        },
        "f1dad9f286ab4f21bb10c02306aad12e": {
          "model_module": "@jupyter-widgets/controls",
          "model_name": "SliderStyleModel",
          "model_module_version": "1.5.0",
          "state": {
            "_model_module": "@jupyter-widgets/controls",
            "_model_module_version": "1.5.0",
            "_model_name": "SliderStyleModel",
            "_view_count": null,
            "_view_module": "@jupyter-widgets/base",
            "_view_module_version": "1.2.0",
            "_view_name": "StyleView",
            "description_width": "",
            "handle_color": null
          }
        },
        "41a7a1ff66d24cc4a6e8cd2e7e94aabd": {
          "model_module": "@jupyter-widgets/base",
          "model_name": "LayoutModel",
          "model_module_version": "1.2.0",
          "state": {
            "_model_module": "@jupyter-widgets/base",
            "_model_module_version": "1.2.0",
            "_model_name": "LayoutModel",
            "_view_count": null,
            "_view_module": "@jupyter-widgets/base",
            "_view_module_version": "1.2.0",
            "_view_name": "LayoutView",
            "align_content": null,
            "align_items": null,
            "align_self": null,
            "border": null,
            "bottom": null,
            "display": null,
            "flex": null,
            "flex_flow": null,
            "grid_area": null,
            "grid_auto_columns": null,
            "grid_auto_flow": null,
            "grid_auto_rows": null,
            "grid_column": null,
            "grid_gap": null,
            "grid_row": null,
            "grid_template_areas": null,
            "grid_template_columns": null,
            "grid_template_rows": null,
            "height": null,
            "justify_content": null,
            "justify_items": null,
            "left": null,
            "margin": null,
            "max_height": null,
            "max_width": null,
            "min_height": null,
            "min_width": null,
            "object_fit": null,
            "object_position": null,
            "order": null,
            "overflow": null,
            "overflow_x": null,
            "overflow_y": null,
            "padding": null,
            "right": null,
            "top": null,
            "visibility": null,
            "width": null
          }
        },
        "aa76dfe6ff5348f09d8245fee7455439": {
          "model_module": "@jupyter-widgets/controls",
          "model_name": "SliderStyleModel",
          "model_module_version": "1.5.0",
          "state": {
            "_model_module": "@jupyter-widgets/controls",
            "_model_module_version": "1.5.0",
            "_model_name": "SliderStyleModel",
            "_view_count": null,
            "_view_module": "@jupyter-widgets/base",
            "_view_module_version": "1.2.0",
            "_view_name": "StyleView",
            "description_width": "",
            "handle_color": null
          }
        },
        "c4a561ab3b724849b68b6283630f45fd": {
          "model_module": "@jupyter-widgets/base",
          "model_name": "LayoutModel",
          "model_module_version": "1.2.0",
          "state": {
            "_model_module": "@jupyter-widgets/base",
            "_model_module_version": "1.2.0",
            "_model_name": "LayoutModel",
            "_view_count": null,
            "_view_module": "@jupyter-widgets/base",
            "_view_module_version": "1.2.0",
            "_view_name": "LayoutView",
            "align_content": null,
            "align_items": null,
            "align_self": null,
            "border": null,
            "bottom": null,
            "display": null,
            "flex": null,
            "flex_flow": null,
            "grid_area": null,
            "grid_auto_columns": null,
            "grid_auto_flow": null,
            "grid_auto_rows": null,
            "grid_column": null,
            "grid_gap": null,
            "grid_row": null,
            "grid_template_areas": null,
            "grid_template_columns": null,
            "grid_template_rows": null,
            "height": null,
            "justify_content": null,
            "justify_items": null,
            "left": null,
            "margin": null,
            "max_height": null,
            "max_width": null,
            "min_height": null,
            "min_width": null,
            "object_fit": null,
            "object_position": null,
            "order": null,
            "overflow": null,
            "overflow_x": null,
            "overflow_y": null,
            "padding": null,
            "right": null,
            "top": null,
            "visibility": null,
            "width": null
          }
        },
        "e51863d1f4da4b198100f4db3307f369": {
          "model_module": "@jupyter-widgets/controls",
          "model_name": "TabModel",
          "model_module_version": "1.5.0",
          "state": {
            "_dom_classes": [],
            "_model_module": "@jupyter-widgets/controls",
            "_model_module_version": "1.5.0",
            "_model_name": "TabModel",
            "_titles": {
              "0": "Youtube",
              "1": "Bilibili",
              "2": "Osf"
            },
            "_view_count": null,
            "_view_module": "@jupyter-widgets/controls",
            "_view_module_version": "1.5.0",
            "_view_name": "TabView",
            "box_style": "",
            "children": [
              "IPY_MODEL_67ed93ee1cd6427baaaeceffb3870930",
              "IPY_MODEL_e7f392bbb07e420c9d6d96d45e203e8a",
              "IPY_MODEL_b8a64decabc446aaab27c499165a54c3"
            ],
            "layout": "IPY_MODEL_bf697a244c324612900b1597b4f3f542",
            "selected_index": 0
          }
        },
        "67ed93ee1cd6427baaaeceffb3870930": {
          "model_module": "@jupyter-widgets/output",
          "model_name": "OutputModel",
          "model_module_version": "1.0.0",
          "state": {
            "_dom_classes": [],
            "_model_module": "@jupyter-widgets/output",
            "_model_module_version": "1.0.0",
            "_model_name": "OutputModel",
            "_view_count": null,
            "_view_module": "@jupyter-widgets/output",
            "_view_module_version": "1.0.0",
            "_view_name": "OutputView",
            "layout": "IPY_MODEL_286ec4831ad84ed694c8eeca103f5b8f",
            "msg_id": "",
            "outputs": [
              {
                "output_type": "stream",
                "name": "stdout",
                "text": [
                  "Video available at https://youtube.com/watch?v=<video_id_1>\n"
                ]
              },
              {
                "output_type": "display_data",
                "data": {
                  "text/plain": "<IPython.lib.display.YouTubeVideo at 0x7fcb2c30fd90>",
                  "text/html": "\n        <iframe\n            width=\"854\"\n            height=\"480\"\n            src=\"https://www.youtube.com/embed/<video_id_1>?fs=1&rel=0\"\n            frameborder=\"0\"\n            allowfullscreen\n            \n        ></iframe>\n        "
                },
                "metadata": {}
              }
            ]
          }
        },
        "e7f392bbb07e420c9d6d96d45e203e8a": {
          "model_module": "@jupyter-widgets/output",
          "model_name": "OutputModel",
          "model_module_version": "1.0.0",
          "state": {
            "_dom_classes": [],
            "_model_module": "@jupyter-widgets/output",
            "_model_module_version": "1.0.0",
            "_model_name": "OutputModel",
            "_view_count": null,
            "_view_module": "@jupyter-widgets/output",
            "_view_module_version": "1.0.0",
            "_view_name": "OutputView",
            "layout": "IPY_MODEL_58360a7455e54132ada3618d9a3dac9f",
            "msg_id": "",
            "outputs": [
              {
                "output_type": "stream",
                "name": "stdout",
                "text": [
                  "Video available at https://www.bilibili.com/video/<video_id_2>\n"
                ]
              },
              {
                "output_type": "display_data",
                "data": {
                  "text/plain": "<__main__.PlayVideo at 0x7fcb2c30fe20>",
                  "text/html": "\n        <iframe\n            width=\"854\"\n            height=\"480\"\n            src=\"https://player.bilibili.com/player.html?bvid=<video_id_2>&page=1?fs=1&autoplay=False\"\n            frameborder=\"0\"\n            allowfullscreen\n            \n        ></iframe>\n        "
                },
                "metadata": {}
              }
            ]
          }
        },
        "b8a64decabc446aaab27c499165a54c3": {
          "model_module": "@jupyter-widgets/output",
          "model_name": "OutputModel",
          "model_module_version": "1.0.0",
          "state": {
            "_dom_classes": [],
            "_model_module": "@jupyter-widgets/output",
            "_model_module_version": "1.0.0",
            "_model_name": "OutputModel",
            "_view_count": null,
            "_view_module": "@jupyter-widgets/output",
            "_view_module_version": "1.0.0",
            "_view_name": "OutputView",
            "layout": "IPY_MODEL_06969a47482d498faa7ce784c958d0e6",
            "msg_id": "",
            "outputs": [
              {
                "output_type": "stream",
                "name": "stdout",
                "text": [
                  "Video available at https://osf.io/<video_id_3>\n"
                ]
              },
              {
                "output_type": "display_data",
                "data": {
                  "text/plain": "<__main__.PlayVideo at 0x7fcb2c30ebc0>",
                  "text/html": "\n        <iframe\n            width=\"854\"\n            height=\"480\"\n            src=\"https://mfr.ca-1.osf.io/render?url=https://osf.io/download/<video_id_3>/?direct%26mode=render?fs=1&autoplay=False\"\n            frameborder=\"0\"\n            allowfullscreen\n            \n        ></iframe>\n        "
                },
                "metadata": {}
              }
            ]
          }
        },
        "bf697a244c324612900b1597b4f3f542": {
          "model_module": "@jupyter-widgets/base",
          "model_name": "LayoutModel",
          "model_module_version": "1.2.0",
          "state": {
            "_model_module": "@jupyter-widgets/base",
            "_model_module_version": "1.2.0",
            "_model_name": "LayoutModel",
            "_view_count": null,
            "_view_module": "@jupyter-widgets/base",
            "_view_module_version": "1.2.0",
            "_view_name": "LayoutView",
            "align_content": null,
            "align_items": null,
            "align_self": null,
            "border": null,
            "bottom": null,
            "display": null,
            "flex": null,
            "flex_flow": null,
            "grid_area": null,
            "grid_auto_columns": null,
            "grid_auto_flow": null,
            "grid_auto_rows": null,
            "grid_column": null,
            "grid_gap": null,
            "grid_row": null,
            "grid_template_areas": null,
            "grid_template_columns": null,
            "grid_template_rows": null,
            "height": null,
            "justify_content": null,
            "justify_items": null,
            "left": null,
            "margin": null,
            "max_height": null,
            "max_width": null,
            "min_height": null,
            "min_width": null,
            "object_fit": null,
            "object_position": null,
            "order": null,
            "overflow": null,
            "overflow_x": null,
            "overflow_y": null,
            "padding": null,
            "right": null,
            "top": null,
            "visibility": null,
            "width": null
          }
        },
        "286ec4831ad84ed694c8eeca103f5b8f": {
          "model_module": "@jupyter-widgets/base",
          "model_name": "LayoutModel",
          "model_module_version": "1.2.0",
          "state": {
            "_model_module": "@jupyter-widgets/base",
            "_model_module_version": "1.2.0",
            "_model_name": "LayoutModel",
            "_view_count": null,
            "_view_module": "@jupyter-widgets/base",
            "_view_module_version": "1.2.0",
            "_view_name": "LayoutView",
            "align_content": null,
            "align_items": null,
            "align_self": null,
            "border": null,
            "bottom": null,
            "display": null,
            "flex": null,
            "flex_flow": null,
            "grid_area": null,
            "grid_auto_columns": null,
            "grid_auto_flow": null,
            "grid_auto_rows": null,
            "grid_column": null,
            "grid_gap": null,
            "grid_row": null,
            "grid_template_areas": null,
            "grid_template_columns": null,
            "grid_template_rows": null,
            "height": null,
            "justify_content": null,
            "justify_items": null,
            "left": null,
            "margin": null,
            "max_height": null,
            "max_width": null,
            "min_height": null,
            "min_width": null,
            "object_fit": null,
            "object_position": null,
            "order": null,
            "overflow": null,
            "overflow_x": null,
            "overflow_y": null,
            "padding": null,
            "right": null,
            "top": null,
            "visibility": null,
            "width": null
          }
        },
        "58360a7455e54132ada3618d9a3dac9f": {
          "model_module": "@jupyter-widgets/base",
          "model_name": "LayoutModel",
          "model_module_version": "1.2.0",
          "state": {
            "_model_module": "@jupyter-widgets/base",
            "_model_module_version": "1.2.0",
            "_model_name": "LayoutModel",
            "_view_count": null,
            "_view_module": "@jupyter-widgets/base",
            "_view_module_version": "1.2.0",
            "_view_name": "LayoutView",
            "align_content": null,
            "align_items": null,
            "align_self": null,
            "border": null,
            "bottom": null,
            "display": null,
            "flex": null,
            "flex_flow": null,
            "grid_area": null,
            "grid_auto_columns": null,
            "grid_auto_flow": null,
            "grid_auto_rows": null,
            "grid_column": null,
            "grid_gap": null,
            "grid_row": null,
            "grid_template_areas": null,
            "grid_template_columns": null,
            "grid_template_rows": null,
            "height": null,
            "justify_content": null,
            "justify_items": null,
            "left": null,
            "margin": null,
            "max_height": null,
            "max_width": null,
            "min_height": null,
            "min_width": null,
            "object_fit": null,
            "object_position": null,
            "order": null,
            "overflow": null,
            "overflow_x": null,
            "overflow_y": null,
            "padding": null,
            "right": null,
            "top": null,
            "visibility": null,
            "width": null
          }
        },
        "06969a47482d498faa7ce784c958d0e6": {
          "model_module": "@jupyter-widgets/base",
          "model_name": "LayoutModel",
          "model_module_version": "1.2.0",
          "state": {
            "_model_module": "@jupyter-widgets/base",
            "_model_module_version": "1.2.0",
            "_model_name": "LayoutModel",
            "_view_count": null,
            "_view_module": "@jupyter-widgets/base",
            "_view_module_version": "1.2.0",
            "_view_name": "LayoutView",
            "align_content": null,
            "align_items": null,
            "align_self": null,
            "border": null,
            "bottom": null,
            "display": null,
            "flex": null,
            "flex_flow": null,
            "grid_area": null,
            "grid_auto_columns": null,
            "grid_auto_flow": null,
            "grid_auto_rows": null,
            "grid_column": null,
            "grid_gap": null,
            "grid_row": null,
            "grid_template_areas": null,
            "grid_template_columns": null,
            "grid_template_rows": null,
            "height": null,
            "justify_content": null,
            "justify_items": null,
            "left": null,
            "margin": null,
            "max_height": null,
            "max_width": null,
            "min_height": null,
            "min_width": null,
            "object_fit": null,
            "object_position": null,
            "order": null,
            "overflow": null,
            "overflow_x": null,
            "overflow_y": null,
            "padding": null,
            "right": null,
            "top": null,
            "visibility": null,
            "width": null
          }
        }
      }
    }
  },
  "cells": [
    {
      "cell_type": "markdown",
      "metadata": {
        "id": "view-in-github",
        "colab_type": "text"
      },
      "source": [
        "<a href=\"https://colab.research.google.com/github/NeuromatchAcademy/content-creation/blob/updates/Neuromatch_Tutorial_Format.ipynb\" target=\"_parent\"><img src=\"https://colab.research.google.com/assets/colab-badge.svg\" alt=\"Open In Colab\"/></a>"
      ]
    },
    {
      "cell_type": "markdown",
      "metadata": {
        "id": "fDXAYdIHuyCV"
      },
      "source": [
        "# Tutorial ?: Tutorial's name\n",
        "**Week ?, Day ?: Name of the day**\n",
        "\n",
        "**By Neuromatch Academy**\n",
        "\n",
        "__Content creators:__ Name Surname, Name Surname, Day Lead's Name\n",
        "\n",
        "__Content reviewers:__ Name Surname, Name Surname\n",
        "\n",
        "__Content editors:__ Name Surname, Name Surname\n",
        "\n",
        "__Production editors:__ Name Surname, Name Surname"
      ]
    },
    {
      "cell_type": "markdown",
      "metadata": {
        "id": "4h4qxzfX3Erc"
      },
      "source": [
        "**Our 2021 Sponsors, including Presenting Sponsor Facebook Reality Labs**\n",
        "\n",
        "<p align='center'><img src='https://github.com/NeuromatchAcademy/widgets/blob/master/sponsors.png?raw=True'/></p>"
      ]
    },
    {
      "cell_type": "markdown",
      "metadata": {
        "id": "gzAa0I1xZ79h"
      },
      "source": [
        "---\n",
        "#Tutorial Objectives\n",
        "\n",
        "Use a line (---) separator from title block to objectives. You should briefly introduce your content here in a few sentences. In this tutorial, you will learn what an NMA tutorial notebook should look like. \n",
        "\n",
        "Then have a few specific objectives for this tutorial, ideally [SMART goals](https://www.ncbi.nlm.nih.gov/pmc/articles/PMC5944406/#:~:text=1%20The%20mnemonic%20SMART%E2%80%94Specific,a%20well%2Dwritten%20learning%20objective.&text=Verbs%20such%20as%20understand%2C%20know,measurable%20and%20should%20be%20avoided.). By the end of this tutorial you will be able to:\n",
        "*   Understand the format of an NMA tutorial\n",
        "*   Make code exercises, interactive demos, and group discussions the correct structure\n",
        "\n",
        "\n"
      ]
    },
    {
      "cell_type": "code",
      "metadata": {
        "id": "wlndBdbV5iJF",
        "colab": {
          "base_uri": "https://localhost:8080/",
          "height": 520
        },
        "outputId": "a3523a7d-1101-4436-fb79-2a60b0c809e9"
      },
      "source": [
        "# @title Tutorial slides\n",
        "\n",
        "# @markdown These are the slides for the videos in all tutorials today\n",
        "from IPython.display import IFrame\n",
        "link_id = \"kaq2x\"\n",
        "print(f\"If you want to download the slides: https://osf.io/download/{link_id}/\")\n",
        "IFrame(src=f\"https://mfr.ca-1.osf.io/render?url=https://osf.io/{link_id}/?direct%26mode=render%26action=download%26mode=render\", width=854, height=480)"
      ],
      "execution_count": 1,
      "outputs": [
        {
          "output_type": "stream",
          "name": "stdout",
          "text": [
            "If you want to download the slides: https://osf.io/download/kaq2x/\n"
          ]
        },
        {
          "output_type": "execute_result",
          "data": {
            "text/plain": [
              "<IPython.lib.display.IFrame at 0x7fcbef6e1f00>"
            ],
            "text/html": [
              "\n",
              "        <iframe\n",
              "            width=\"854\"\n",
              "            height=\"480\"\n",
              "            src=\"https://mfr.ca-1.osf.io/render?url=https://osf.io/kaq2x/?direct%26mode=render%26action=download%26mode=render\"\n",
              "            frameborder=\"0\"\n",
              "            allowfullscreen\n",
              "            \n",
              "        ></iframe>\n",
              "        "
            ]
          },
          "metadata": {},
          "execution_count": 1
        }
      ]
    },
    {
      "cell_type": "markdown",
      "metadata": {
        "id": "V0iDJGBMzbMQ"
      },
      "source": [
        "---\n",
        "# Setup"
      ]
    },
    {
      "cell_type": "markdown",
      "metadata": {
        "id": "zDsBmvTSjFeu"
      },
      "source": [
        "In this section, we have:\n",
        "\n",
        "1. **Install dependencies**: install specific to the tutorial libraries that are not included in the *requirements.txt` file in the repo.\n",
        "2. **Import cell**: imports all libraries you use in the tutorial.\n",
        "3. **Hidden Figure settings cell**: sets up the plotting style (copy exactly).\n",
        "4. **Hidden Plotting functions cell**: contains all functions used to create plots throughout the tutorial (so students don't waste time looking at boilerplate matplotlib but can here if they wish to). Please use only matplotlib for plotting for consistency.\n",
        "5. **Hidden Helper functions cell**: This should contain functions that students have previously used or that are very simple. Any helper functions that are being used for the first time and are important should be placed directly above the relevant text or exercise (see Section 1.1 for an example)."
      ]
    },
    {
      "cell_type": "code",
      "source": [
        "# @title Install dependencies\n",
        "\n",
        "# @markdown **WARNING**: There may be *errors* and/or *warnings* reported during the installation. However, they are to be ignored.\n",
        "\n",
        "!pip install pillow --quiet  # always use quiet"
      ],
      "metadata": {
        "id": "CXww2bMfW6mF"
      },
      "execution_count": 2,
      "outputs": []
    },
    {
      "cell_type": "code",
      "metadata": {
        "cellView": "both",
        "id": "3Yuh005kCT0v"
      },
      "source": [
        "# Imports\n",
        "\n",
        "# Import only the libraries/objects that you use in this tutorial. \n",
        "\n",
        "# If any external library has to be installed, !pip install library --quiet\n",
        "# follow this order: numpy>matplotlib. \n",
        "# import widgets in hidden Figure settings cell\n",
        "\n",
        "import random\n",
        "import numpy as np\n",
        "import matplotlib.pyplot as plt"
      ],
      "execution_count": 3,
      "outputs": []
    },
    {
      "cell_type": "code",
      "metadata": {
        "id": "PCOz4jKJXGya"
      },
      "source": [
        "# @title Figure settings\n",
        "import ipywidgets as widgets  # interactive display\n",
        "%config InlineBackend.figure_format = 'retina'\n",
        "plt.style.use(\"https://raw.githubusercontent.com/NeuromatchAcademy/content-creation/main/nma.mplstyle\")"
      ],
      "execution_count": 4,
      "outputs": []
    },
    {
      "cell_type": "code",
      "metadata": {
        "id": "EojkgkRwizCs"
      },
      "source": [
        "# @title Plotting functions\n",
        "import logging\n",
        "logging.getLogger('matplotlib.font_manager').disabled = True\n",
        "\n",
        "# You may have functions that plot results that aren't \n",
        "# particularly interesting. You can add these here to hide them. \n",
        "\n",
        "def plotting_z(z):\n",
        "  \"\"\"This function multiplies every element in an array by a provided value\n",
        "\n",
        "  Args:\n",
        "    z (ndarray): neural activity over time, shape (T, ) where T is number of timesteps\n",
        "  \n",
        "   \"\"\"\n",
        "\n",
        "  fig, ax = plt.subplots()\n",
        "\n",
        "  ax.plot(z)\n",
        "  ax.set(\n",
        "      xlabel='Time (s)',\n",
        "      ylabel='Z',\n",
        "      title='Neural activity over time'\n",
        "      )"
      ],
      "execution_count": 19,
      "outputs": []
    },
    {
      "cell_type": "code",
      "metadata": {
        "id": "vGVC4AWz41jD"
      },
      "source": [
        "# @title Helper functions\n",
        "\n",
        "# If any helper functions you want to hide for clarity (that has been seen before\n",
        "# or is simple/uniformative), add here\n",
        "# If helper code depends on libraries that aren't used elsewhere,\n",
        "# import those libaries here, rather than in the main import cell\n"
      ],
      "execution_count": 6,
      "outputs": []
    },
    {
      "cell_type": "code",
      "source": [
        "# @title Set random seed\n",
        "\n",
        "# @markdown Executing `set_seed(seed=seed)` you are setting the seed\n",
        "\n",
        "# for DL its critical to set the random seed so that students can have a\n",
        "# baseline to compare their results to expected results.\n",
        "# Read more here: https://pytorch.org/docs/stable/notes/randomness.html\n",
        "\n",
        "# Call `set_seed` function in the exercises to ensure reproducibility.\n",
        "import random\n",
        "import numpy as np\n",
        "\n",
        "def set_seed(seed=None):\n",
        "  if seed is None:\n",
        "    seed = np.random.choice(2 ** 32)\n",
        "  random.seed(seed)\n",
        "  np.random.seed(seed)\n",
        "  print(f'Random seed {seed} has been set.')\n",
        "\n",
        "\n",
        "set_seed(seed=2023)  # change 2023 with any number you like"
      ],
      "metadata": {
        "id": "IMQWgaol0BK_",
        "outputId": "a414bd35-058b-40e5-b2f6-71956992ceae",
        "colab": {
          "base_uri": "https://localhost:8080/"
        }
      },
      "execution_count": 7,
      "outputs": [
        {
          "output_type": "stream",
          "name": "stdout",
          "text": [
            "Random seed 2023 has been set.\n"
          ]
        }
      ]
    },
    {
      "cell_type": "code",
      "metadata": {
        "id": "TyNYGgmBadM1",
        "colab": {
          "base_uri": "https://localhost:8080/"
        },
        "outputId": "28a74ca8-b3a2-43d6-bed4-0b6cc5ba793a"
      },
      "source": [
        "# @title Set random seed, when using `pytorch`\n",
        "\n",
        "# @markdown Executing `set_seed(seed=seed)` you are setting the seed\n",
        "\n",
        "# for DL its critical to set the random seed so that students can have a\n",
        "# baseline to compare their results to expected results.\n",
        "# Read more here: https://pytorch.org/docs/stable/notes/randomness.html\n",
        "\n",
        "# Call `set_seed` function in the exercises to ensure reproducibility.\n",
        "import random\n",
        "import torch\n",
        "import numpy as np\n",
        "\n",
        "def set_seed(seed=None, seed_torch=True):\n",
        "  if seed is None:\n",
        "    seed = np.random.choice(2 ** 32)\n",
        "  random.seed(seed)\n",
        "  np.random.seed(seed)\n",
        "  if seed_torch:\n",
        "    torch.manual_seed(seed)\n",
        "    torch.cuda.manual_seed_all(seed)\n",
        "    torch.cuda.manual_seed(seed)\n",
        "    torch.backends.cudnn.benchmark = False\n",
        "    torch.backends.cudnn.deterministic = True\n",
        "\n",
        "  print(f'Random seed {seed} has been set.')\n",
        "\n",
        "\n",
        "# In case that `DataLoader` is used\n",
        "def seed_worker(worker_id):\n",
        "  worker_seed = torch.initial_seed() % 2**32\n",
        "  np.random.seed(worker_seed)\n",
        "  random.seed(worker_seed)\n",
        "\n",
        "\n",
        "set_seed(seed=2021, seed_torch=False)  # change 2021 with any number you like"
      ],
      "execution_count": 8,
      "outputs": [
        {
          "output_type": "stream",
          "name": "stdout",
          "text": [
            "Random seed 2021 has been set.\n"
          ]
        }
      ]
    },
    {
      "cell_type": "code",
      "metadata": {
        "id": "uLeqNVHV6WEM"
      },
      "source": [
        "# @title Set device (GPU or CPU). Execute `set_device()`\n",
        "# especially if torch modules used.\n",
        "\n",
        "# inform the user if the notebook uses GPU or CPU.\n",
        "\n",
        "def set_device():\n",
        "  device = \"cuda\" if torch.cuda.is_available() else \"cpu\"\n",
        "  if device != \"cuda\":\n",
        "    print(\"GPU is not enabled in this notebook. \\n\"\n",
        "          \"If you want to enable it, in the menu under `Runtime` -> \\n\"\n",
        "          \"`Hardware accelerator.` and select `GPU` from the dropdown menu\")\n",
        "  else:\n",
        "    print(\"GPU is enabled in this notebook. \\n\"\n",
        "          \"If you want to disable it, in the menu under `Runtime` -> \\n\"\n",
        "          \"`Hardware accelerator.` and select `None` from the dropdown menu\")\n",
        "\n",
        "  return device"
      ],
      "execution_count": 9,
      "outputs": []
    },
    {
      "cell_type": "markdown",
      "metadata": {
        "id": "nULavCfq4o07"
      },
      "source": [
        "---\n",
        "\n",
        "# Section 1: Example of tutorial structure\n",
        "\n",
        "The above section header should be a description of what the section covers"
      ]
    },
    {
      "cell_type": "code",
      "metadata": {
        "id": "ThcPwgvzvV-6",
        "colab": {
          "base_uri": "https://localhost:8080/",
          "height": 582,
          "referenced_widgets": [
            "ea83cee0971641a69df5f9cbf9c079f8",
            "21f76821fded4d10abdce06d65040d70",
            "75cd516a587446c7875c462dd2aecf06",
            "965e3035780b4ab58171aa3a2632109a",
            "f4fc00ec214a4913b6ec9b95f689f451",
            "bbe761d9bd214b8b83d207587e303804",
            "f7617f8a9a9b42709644e5439412a60d",
            "3a545682721846efaf17e214f8cda7ce"
          ]
        },
        "outputId": "ee198190-78e8-48de-b9ae-9343355d7c1e"
      },
      "source": [
        "# @title Video 1: Video 1 Name\n",
        "from ipywidgets import widgets\n",
        "from IPython.display import YouTubeVideo\n",
        "from IPython.display import IFrame\n",
        "from IPython.display import display\n",
        "\n",
        "\n",
        "class PlayVideo(IFrame):\n",
        "  def __init__(self, id, source, page=1, width=400, height=300, **kwargs):\n",
        "    self.id = id\n",
        "    if source == 'Bilibili':\n",
        "      src = f'https://player.bilibili.com/player.html?bvid={id}&page={page}'\n",
        "    elif source == 'Osf':\n",
        "      src = f'https://mfr.ca-1.osf.io/render?url=https://osf.io/download/{id}/?direct%26mode=render'\n",
        "    super(PlayVideo, self).__init__(src, width, height, **kwargs)\n",
        "\n",
        "\n",
        "def display_videos(video_ids, W=400, H=300, fs=1):\n",
        "  tab_contents = []\n",
        "  for i, video_id in enumerate(video_ids):\n",
        "    out = widgets.Output()\n",
        "    with out:\n",
        "      if video_ids[i][0] == 'Youtube':\n",
        "        video = YouTubeVideo(id=video_ids[i][1], width=W,\n",
        "                             height=H, fs=fs, rel=0)\n",
        "        print(f'Video available at https://youtube.com/watch?v={video.id}')\n",
        "      else:\n",
        "        video = PlayVideo(id=video_ids[i][1], source=video_ids[i][0], width=W,\n",
        "                          height=H, fs=fs, autoplay=False)\n",
        "        if video_ids[i][0] == 'Bilibili':\n",
        "          print(f'Video available at https://www.bilibili.com/video/{video.id}')\n",
        "        elif video_ids[i][0] == 'Osf':\n",
        "          print(f'Video available at https://osf.io/{video.id}')  \n",
        "      display(video)\n",
        "    tab_contents.append(out)\n",
        "  return tab_contents\n",
        "\n",
        "\n",
        "video_ids = [('Youtube', '<video_id_1>'), ('Bilibili', '<video_id_2>'), ('Osf', '<video_id_3>')]\n",
        "tab_contents = display_videos(video_ids, W=854, H=480)\n",
        "tabs = widgets.Tab()\n",
        "tabs.children = tab_contents\n",
        "for i in range(len(tab_contents)):\n",
        "  tabs.set_title(i, video_ids[i][0])\n",
        "display(tabs)"
      ],
      "execution_count": 10,
      "outputs": [
        {
          "output_type": "display_data",
          "data": {
            "text/plain": [
              "Tab(children=(Output(), Output(), Output()), _titles={'0': 'Youtube', '1': 'Bilibili', '2': 'Osf'})"
            ],
            "application/vnd.jupyter.widget-view+json": {
              "version_major": 2,
              "version_minor": 0,
              "model_id": "ea83cee0971641a69df5f9cbf9c079f8"
            }
          },
          "metadata": {}
        }
      ]
    },
    {
      "cell_type": "markdown",
      "metadata": {
        "id": "z8axuI6upLv4"
      },
      "source": [
        "Text about the first concept. Don't make too long to reduce reading times during tutorial (extra text for later reference can go in appendix). Instead of long paragraphs, use bullet points of multiple shorter paragraphs. In both the videos and text, you should not \"speak in variables.\" For example, don't say \"change alpha\", say \"change the learning rate\" or \"change the learning rate, alpha\"."
      ]
    },
    {
      "cell_type": "markdown",
      "metadata": {
        "id": "j9n17gXFOIXX"
      },
      "source": [
        "## Section 1.1:  Different types of activities in an NMA tutorial (subsection header)\n",
        "\n",
        "You can have students complete coding exercises, play with interactive demos, or have group discussions."
      ]
    },
    {
      "cell_type": "markdown",
      "metadata": {
        "id": "ZosC4SmFQnhq"
      },
      "source": [
        "### Coding Exercise 1.1: Helpful exercise name (e.g., fitting a linear regression model)\n",
        "\n",
        "This exercise fits in this subsection so is a level 3 header. We name it after the section it is in.\n",
        "\n",
        "Very briefly summarize the exercise here. The first exercise should not be too difficult, to serve as a warm-up for students. Outputs of the code cell will ideally be a plot (so students can easily check against the correct one). In limited cases, the output may be printing numbers, text, etc. In that case you need to write the solution output manually after the exercise (E.g.: \"You should see [4, 5, 6] when running the cell above\").\n",
        "\n",
        "\n",
        "Warn them when they will use a helper function. For example: In this exercise, you will also invoke `multiply_array` which multiplies an array by a scalar (a silly example).\n",
        "\n",
        "**Note**: In case of randomness and to ensure reproducibility, do not forget to use a random seed before the exercise or within the function."
      ]
    },
    {
      "cell_type": "code",
      "metadata": {
        "id": "z7_QQyrXs3lV",
        "cellView": "form"
      },
      "source": [
        "# @markdown *Execute this cell to enable the array multiplication function: `multiply_array`*\n",
        "\n",
        "\n",
        "def multiply_array(x, c, seed):\n",
        "  \"\"\"Multiply every element in an array by a provided value\n",
        "\n",
        "  Args:\n",
        "    x (ndarray): An array of shape (N,) \n",
        "    c (scalar): multiplicative factor\n",
        "    seed (integer): random seed\n",
        "\n",
        "  Returns:\n",
        "    ndarray: output of the multiplication \n",
        "  \"\"\"\n",
        "  np.random.seed(seed)\n",
        "  y = x * c + 4*np.random.randn()\n",
        "\n",
        "  return y"
      ],
      "execution_count": 11,
      "outputs": []
    },
    {
      "cell_type": "markdown",
      "metadata": {
        "id": "bWDbayoJwtIs"
      },
      "source": [
        "__Editor guideline:__ the above structure allows us to make the notebooks cleaner by hiding functions but still keep relevant functions close to where students will encounter them. Make sure to have the function in the markdown text so it's searchable."
      ]
    },
    {
      "cell_type": "code",
      "metadata": {
        "id": "0dYxSDmqQgAC"
      },
      "source": [
        "def generic_function(x, seed):\n",
        "  \"\"\"Google style doc string. Brief summary of what function does here\n",
        "  \n",
        "  Args:\n",
        "    x (ndarray): An array of shape (N,) that contains blah blah\n",
        "    seed (integer): random seed for reproducibility\n",
        "\n",
        "  Returns:\n",
        "    ndarray: The output is blah blah\n",
        "  \"\"\"\n",
        "  #################################################\n",
        "  ## TODO for students: details of what they should do ##\n",
        "  # Fill out function and remove\n",
        "  raise NotImplementedError(\"Student exercise: say what they should have done\")\n",
        "  #################################################\n",
        "  \n",
        "  # Have a comment for every line of code they need to write, and when possible have\n",
        "  # variables written with ellipses where they should fill in or ellipses where they should\n",
        "  # fill in inputs to functions\n",
        "  y = multiply_array(..., 5, seed)\n",
        "\n",
        "  # Another comment because they need to add another line of code\n",
        "  z = ...\n",
        "\n",
        "  return z\n",
        "\n",
        "\n",
        "x = np.array([4, 5, 6])\n",
        "\n",
        "# We usually define the plotting function in the hidden Helper Functions\n",
        "# so students don't have to see a bunch of boilerplate matplotlib code\n",
        "## Uncomment the code below to test your function\n",
        "z = generic_function(x, seed)\n",
        "plotting_z(z)"
      ],
      "execution_count": 20,
      "outputs": []
    },
    {
      "cell_type": "markdown",
      "metadata": {
        "id": "vd9JfcDrbQ_d"
      },
      "source": [
        "---\n",
        "**Editor guideline for exercise solution formatting:**\n",
        "- the presence of `# to_remove solution` in the first line of solution block\n",
        "- The absence of the fenced (`#####`) block that raises a `NotImplementedError`\n",
        "- Valid code replacing all ellipses (`...`)\n",
        "- Code that uses or depends on the completed function/lines is uncommented\n",
        "- Plotting code is indented under a `with plt.xkcd():` context manager.\n",
        "- **All other comments and code should be identical**\n",
        "---"
      ]
    },
    {
      "cell_type": "code",
      "metadata": {
        "cellView": "both",
        "id": "tycSi5Pxbsne",
        "colab": {
          "base_uri": "https://localhost:8080/",
          "height": 592
        },
        "outputId": "9d1d2d69-c4f3-4385-896c-78c4698feba6"
      },
      "source": [
        "# to_remove solution\n",
        "def generic_function(x, seed):\n",
        "  \"\"\"Google style doc string. Brief summary of what function does here\n",
        "  \n",
        "  Args:\n",
        "    x (ndarray): An array of shape (N,) that contains blah blah\n",
        "    seed (integer): random seed for reproducibility\n",
        "\n",
        "  Returns:\n",
        "    ndarray: The output is blah blah\n",
        "  \"\"\"\n",
        "\n",
        "  # Have a comment for every line of code they need to write, and when possible have\n",
        "  # variables written with ellipses where they should fill in or ellipses where they should\n",
        "  # fill in inputs to functions\n",
        "  y = multiply_array(x, 5, seed)\n",
        "\n",
        "  # Another comment because they need to add another line of code\n",
        "  z = y + 6\n",
        "\n",
        "  return z\n",
        "\n",
        "\n",
        "x = np.array([4, 5, 6])\n",
        "\n",
        "# We usually define the plotting function in the hidden Helper Functions\n",
        "# so students don't have to see a bunch of boilerplate matplotlib code\n",
        "## Uncomment the code below to test your function\n",
        "z = generic_function(x, seed=2021)\n",
        "with plt.xkcd():\n",
        "  plotting_z(z)"
      ],
      "execution_count": 22,
      "outputs": [
        {
          "output_type": "display_data",
          "data": {
            "text/plain": [
              "<Figure size 800x600 with 1 Axes>"
            ],
            "image/png": "[encoded data removed]"
          },
          "metadata": {
            "image/png": {
              "width": 775,
              "height": 575
            }
          }
        }
      ]
    },
    {
      "cell_type": "markdown",
      "metadata": {
        "id": "UhDupvg6W4f7"
      },
      "source": [
        "### Interactive Demo 1.1: Name of demo\n",
        "\n",
        "Here, we will demonstrate how to create a widget if you would like to use a widget to demonstrate something. Make sure the use a @title cell and hide the contents by default, because the code to make the widget is often pretty ugly and not important for the students to see. \n",
        "\n",
        "If the widget makes use of a function that must be completed as part of an exercise, you may want to re-implement the correct version of the function inside the widget cell, so that it is useful for a student who got completely stuck.\n",
        "\n",
        "There should be specific questions asked about the demo (e.g. what happens when you do this?)"
      ]
    },
    {
      "cell_type": "code",
      "metadata": {
        "id": "976PhJZaXDP5",
        "cellView": "form",
        "colab": {
          "base_uri": "https://localhost:8080/",
          "height": 656,
          "referenced_widgets": [
            "5ffda861400a4cf0980dadcd6af2bbde",
            "3b92c17d512d4890b6086c68177f296c",
            "dc9161fcfec8424d86704bb4e86f9899",
            "9ade99ceabe64e0ba0d24aa1436f51b4",
            "ee23245de7bf42bb94cb16d43552eb28",
            "779a16da50bc44f48004ac2c2a8f4936",
            "f1dad9f286ab4f21bb10c02306aad12e",
            "41a7a1ff66d24cc4a6e8cd2e7e94aabd",
            "aa76dfe6ff5348f09d8245fee7455439",
            "c4a561ab3b724849b68b6283630f45fd"
          ]
        },
        "outputId": "e4e58542-e85c-421a-dd8a-7571dc0abac7"
      },
      "source": [
        "# @markdown Make sure you execute this cell to enable the widget!\n",
        "\n",
        "x = np.arange(-10, 11, 0.1)\n",
        "\n",
        "\n",
        "def gaussian(x, mu, sigma):\n",
        "  px = np.exp(-1 / 2 / sigma**2 * (mu - x) ** 2)\n",
        "  px = px / px.sum()\n",
        "  return px\n",
        "\n",
        "\n",
        "@widgets.interact\n",
        "def plot_gaussian(mean=(-10, 10, .5), std=(.5, 10, .5)):\n",
        "  plt.plot(x, gaussian(x, mean, std))"
      ],
      "execution_count": 14,
      "outputs": [
        {
          "output_type": "display_data",
          "data": {
            "text/plain": [
              "interactive(children=(FloatSlider(value=0.0, description='mean', max=10.0, min=-10.0, step=0.5), FloatSlider(v…"
            ],
            "application/vnd.jupyter.widget-view+json": {
              "version_major": 2,
              "version_minor": 0,
              "model_id": "5ffda861400a4cf0980dadcd6af2bbde"
            }
          },
          "metadata": {}
        },
        {
          "output_type": "display_data",
          "data": {
            "text/plain": [
              "<Figure size 800x600 with 1 Axes>"
            ],
            "image/png": "[encoded data removed]"
          },
          "metadata": {
            "image/png": {
              "width": 775,
              "height": 575
            }
          }
        }
      ]
    },
    {
      "cell_type": "code",
      "metadata": {
        "id": "O0-u0qhNgATu"
      },
      "source": [
        "# to_remove explanation\n",
        "\n",
        "\"\"\"\n",
        "Discussion: Write a dicussion about/answers to any open-ended questions you pose (either about a demo or elsewhere)\n",
        "\n",
        "You can write a paragraph or two of nice didactic text\n",
        "within a single comment. \n",
        "\"\"\";"
      ],
      "execution_count": 15,
      "outputs": []
    },
    {
      "cell_type": "markdown",
      "metadata": {
        "id": "f4h1Y-BxcQyp"
      },
      "source": [
        "__Editor guideline:__ note that the form header for the cell above is __to_remove explanation__, not __to_remove solution__."
      ]
    },
    {
      "cell_type": "markdown",
      "metadata": {
        "id": "CrTpOZZDW9qZ"
      },
      "source": [
        "maybe some more text about what exercises showed (if helpful). \n",
        "The Gaussian is: \n",
        "- bumpy in the middle\n",
        "- symmetric\n",
        "- almighty"
      ]
    },
    {
      "cell_type": "markdown",
      "metadata": {
        "id": "-cXAncan4Xqk"
      },
      "source": [
        "### Think! 1.1: Name of discussion topic\n",
        "\n",
        "In addition to code exercises and interactive demos, you can have \"discussion exercises\" where students discuss open-ended questions. Each should roughly replace a code exercise so take about 10 minutes.\n",
        "\n",
        "E.g.: What do you think contributes to a good learning experience? Take 2 minutes to think in silence, then discuss as a group (~10 minutes).\n",
        "\n",
        "**Important**: NMA DL ONLY (not for NMA-CN): You can then include an airtable form through which students can write down their thoughts. This helps us to see how students are thinking (as we can read the responses). You should also still include the explanation cell with the answer or some discussion to aid students."
      ]
    },
    {
      "cell_type": "code",
      "metadata": {
        "id": "RWWAsjjpqVTW"
      },
      "source": [
        "# airtable\n",
        "# relevant_variable_name: text "
      ],
      "execution_count": 16,
      "outputs": []
    },
    {
      "cell_type": "markdown",
      "metadata": {
        "id": "2jMFzfUSqX1N"
      },
      "source": [
        "__Editor guideline:__ note that to notify us where you'd like an airtable input form, use this special syntax. The first line is \"# \n",
        "\n",
        "*   First line is `# airtable`\n",
        "*   Relevant variable name on the second line should be something related to the question you're asking (an identifier). For example it could be \"learning_experience_contribs\" in this example. It should be a valid Python variable (no spaces, don't start with numbers).\n",
        "*   You can have different types of inputs: text, numerical, or multiple choice.\n",
        "    * If you want a text answer, use `# relevant_variable_name: text`\n",
        "    * If you want a numerical answer, use `# relevant_variable_name: number`\n",
        "    * If you want a multiple choice answer, use `# relevant_variable_name: [option1, option2, option3]` where you fill out what the options are. For example, `# network_arch: [MLP, CNN, RNN, Transformer]`\n"
      ]
    },
    {
      "cell_type": "code",
      "metadata": {
        "id": "YTCPwDk7os4i"
      },
      "source": [
        "# to_remove explanation\n",
        "\n",
        "\"\"\"\n",
        "Discussion: Write a dicussion about/answers to any open-ended questions you pose (either about a demo or elsewhere)\n",
        "\n",
        "You can write a paragraph or two of nice didactic text\n",
        "within a single comment. \n",
        "\"\"\";"
      ],
      "execution_count": 17,
      "outputs": []
    },
    {
      "cell_type": "markdown",
      "metadata": {
        "id": "MFaYDWZQ4TEF"
      },
      "source": [
        "## Section 1.2: Name"
      ]
    },
    {
      "cell_type": "markdown",
      "metadata": {
        "id": "rHCBusgk74Mx"
      },
      "source": [
        "### Coding Exercise 1.2: Name\n",
        "\n",
        "This exercise is in a subsection so has a level 3 header"
      ]
    },
    {
      "cell_type": "markdown",
      "metadata": {
        "id": "EuqpiL2Av-vd"
      },
      "source": [
        "---\n",
        "# Section 2: Notation Standards\n",
        "\n",
        "For the comp neuro course, our math notation standards so far are located [here](https://docs.google.com/spreadsheets/d/11YXS39tIQb_x-wLNbbGBu1uQ9Dl4drBqUQbKpw0BQbc/edit?pli=1#gid=1974724555) (accessible from a neuromatch account). This is a work in progress so check back later. \n",
        "\n",
        "For the deep learning course, we will be using [this notation](https://www.deeplearningbook.org/contents/notation.html). You can find and use the latex [here](https://github.com/goodfeli/dlbook_notation/blob/master/notation.tex)."
      ]
    },
    {
      "cell_type": "markdown",
      "metadata": {
        "id": "sGr5NQmk151W"
      },
      "source": [
        "---\n",
        "# Section 3: An additional example section\n",
        "\n",
        "Separate with lines and add more content here! Depending on how the videos were created, you may or may not have a separate video for each section"
      ]
    },
    {
      "cell_type": "code",
      "metadata": {
        "id": "AFd7Ji-twKIK",
        "colab": {
          "base_uri": "https://localhost:8080/",
          "height": 582,
          "referenced_widgets": [
            "e51863d1f4da4b198100f4db3307f369",
            "67ed93ee1cd6427baaaeceffb3870930",
            "e7f392bbb07e420c9d6d96d45e203e8a",
            "b8a64decabc446aaab27c499165a54c3",
            "bf697a244c324612900b1597b4f3f542",
            "286ec4831ad84ed694c8eeca103f5b8f",
            "58360a7455e54132ada3618d9a3dac9f",
            "06969a47482d498faa7ce784c958d0e6"
          ]
        },
        "outputId": "1bbaeab4-b5f4-43de-9732-9c1b3e6aca45"
      },
      "source": [
        "# @title Video 2: Video 2 Name\n",
        "from ipywidgets import widgets\n",
        "from IPython.display import YouTubeVideo\n",
        "from IPython.display import IFrame\n",
        "from IPython.display import display\n",
        "\n",
        "\n",
        "class PlayVideo(IFrame):\n",
        "  def __init__(self, id, source, page=1, width=400, height=300, **kwargs):\n",
        "    self.id = id\n",
        "    if source == 'Bilibili':\n",
        "      src = f'https://player.bilibili.com/player.html?bvid={id}&page={page}'\n",
        "    elif source == 'Osf':\n",
        "      src = f'https://mfr.ca-1.osf.io/render?url=https://osf.io/download/{id}/?direct%26mode=render'\n",
        "    super(PlayVideo, self).__init__(src, width, height, **kwargs)\n",
        "\n",
        "\n",
        "def display_videos(video_ids, W=400, H=300, fs=1):\n",
        "  tab_contents = []\n",
        "  for i, video_id in enumerate(video_ids):\n",
        "    out = widgets.Output()\n",
        "    with out:\n",
        "      if video_ids[i][0] == 'Youtube':\n",
        "        video = YouTubeVideo(id=video_ids[i][1], width=W,\n",
        "                             height=H, fs=fs, rel=0)\n",
        "        print(f'Video available at https://youtube.com/watch?v={video.id}')\n",
        "      else:\n",
        "        video = PlayVideo(id=video_ids[i][1], source=video_ids[i][0], width=W,\n",
        "                          height=H, fs=fs, autoplay=False)\n",
        "        if video_ids[i][0] == 'Bilibili':\n",
        "          print(f'Video available at https://www.bilibili.com/video/{video.id}')\n",
        "        elif video_ids[i][0] == 'Osf':\n",
        "          print(f'Video available at https://osf.io/{video.id}')  \n",
        "      display(video)\n",
        "    tab_contents.append(out)\n",
        "  return tab_contents\n",
        "\n",
        "\n",
        "video_ids = [('Youtube', '<video_id_1>'), ('Bilibili', '<video_id_2>'), ('Osf', '<video_id_3>')]\n",
        "tab_contents = display_videos(video_ids, W=854, H=480)\n",
        "tabs = widgets.Tab()\n",
        "tabs.children = tab_contents\n",
        "for i in range(len(tab_contents)):\n",
        "  tabs.set_title(i, video_ids[i][0])\n",
        "display(tabs)"
      ],
      "execution_count": 18,
      "outputs": [
        {
          "output_type": "display_data",
          "data": {
            "text/plain": [
              "Tab(children=(Output(), Output(), Output()), _titles={'0': 'Youtube', '1': 'Bilibili', '2': 'Osf'})"
            ],
            "application/vnd.jupyter.widget-view+json": {
              "version_major": 2,
              "version_minor": 0,
              "model_id": "e51863d1f4da4b198100f4db3307f369"
            }
          },
          "metadata": {}
        }
      ]
    },
    {
      "cell_type": "markdown",
      "metadata": {
        "id": "qqA6Ajwk1cZ6"
      },
      "source": [
        "## Coding Exercise 3: Name\n",
        "\n",
        "This exercise is in this section (not in a subsection) so has a level 2 header."
      ]
    },
    {
      "cell_type": "markdown",
      "metadata": {
        "id": "5Z6288_MfLEP"
      },
      "source": [
        "---\n",
        "# Section 4: DataLoader deterministically used for DL with Pytorch\n",
        "\n",
        "DataLoader will reseed workers following [Randomness in multi-process data loading algorithm](https://pytorch.org/docs/stable/data.html#data-loading-randomness). Use `worker_init_fn()` and generator to preserve reproducibility:\n",
        "\n",
        "```python\n",
        "g = torch.Generator()\n",
        "g.manual_seed(2021)\n",
        "\n",
        "DataLoader(\n",
        "    train_dataset,\n",
        "    batch_size=batch_size,\n",
        "    num_workers=num_workers,\n",
        "    worker_init_fn=seed_worker,\n",
        "    generator=g,\n",
        ")\n",
        "```"
      ]
    },
    {
      "cell_type": "markdown",
      "metadata": {
        "id": "_Z6vKsN89rN1"
      },
      "source": [
        "---\n",
        "# Summary\n",
        "\n",
        "Have a summary of what they learned with specific points.\n",
        "\n",
        "* Specific point A\n",
        "\n",
        "* Specific point B"
      ]
    },
    {
      "cell_type": "markdown",
      "metadata": {
        "id": "Y6Pux46LWw7e"
      },
      "source": [
        "---\n",
        "# Bonus: Name of Bonus section\n",
        "\n",
        "Add extra text that you want students to have for reference later but that will make reading times too long during tutorials. You can have multiple Bonus sections if you'd like, just number them as Bonus 1: Name, Bonus 2: Name, etc. \n",
        "\n",
        "You should not have bonus content interleaved into the tutorial."
      ]
    }
  ]
}