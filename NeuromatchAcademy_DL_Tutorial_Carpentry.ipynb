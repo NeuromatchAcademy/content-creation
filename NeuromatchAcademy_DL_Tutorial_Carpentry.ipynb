{
  "nbformat": 4,
  "nbformat_minor": 0,
  "metadata": {
    "colab": {
      "name": "NeuromatchAcademy_DL_Tutorial Carpentry",
      "provenance": [],
      "toc_visible": true,
      "include_colab_link": true
    },
    "kernelspec": {
      "display_name": "Python 3",
      "language": "python",
      "name": "python3"
    },
    "language_info": {
      "codemirror_mode": {
        "name": "ipython",
        "version": 3
      },
      "file_extension": ".py",
      "mimetype": "text/x-python",
      "name": "python",
      "nbconvert_exporter": "python",
      "pygments_lexer": "ipython3",
      "version": "3.7.3"
    },
    "toc-autonumbering": true,
    "widgets": {
      "application/vnd.jupyter.widget-state+json": {
        "cb76e665e661436abbf6ae49eb5a33ac": {
          "model_module": "@jupyter-widgets/controls",
          "model_name": "TabModel",
          "model_module_version": "1.5.0",
          "state": {
            "_dom_classes": [],
            "_model_module": "@jupyter-widgets/controls",
            "_model_module_version": "1.5.0",
            "_model_name": "TabModel",
            "_titles": {
              "0": "Youtube",
              "1": "Bilibili",
              "2": "Osf"
            },
            "_view_count": null,
            "_view_module": "@jupyter-widgets/controls",
            "_view_module_version": "1.5.0",
            "_view_name": "TabView",
            "box_style": "",
            "children": [
              "IPY_MODEL_a2629c303282477982c2de8d023b065e",
              "IPY_MODEL_0835b07be423416d8bdfd6aab89c496e",
              "IPY_MODEL_8d78db8e0d3e41928238f3c2840ac907"
            ],
            "layout": "IPY_MODEL_f145c49913904a6cb50532a9f467f166",
            "selected_index": 0
          }
        },
        "a2629c303282477982c2de8d023b065e": {
          "model_module": "@jupyter-widgets/output",
          "model_name": "OutputModel",
          "model_module_version": "1.0.0",
          "state": {
            "_dom_classes": [],
            "_model_module": "@jupyter-widgets/output",
            "_model_module_version": "1.0.0",
            "_model_name": "OutputModel",
            "_view_count": null,
            "_view_module": "@jupyter-widgets/output",
            "_view_module_version": "1.0.0",
            "_view_name": "OutputView",
            "layout": "IPY_MODEL_1554f4b7ce6644adadd74b222f505c51",
            "msg_id": "",
            "outputs": [
              {
                "output_type": "stream",
                "name": "stdout",
                "text": [
                  "Video available at https://youtube.com/watch?v=ca21SNqt78I\n"
                ]
              },
              {
                "output_type": "display_data",
                "data": {
                  "text/plain": "<IPython.lib.display.YouTubeVideo at 0x7f330d6f4c70>",
                  "text/html": "\n        <iframe\n            width=\"854\"\n            height=\"480\"\n            src=\"https://www.youtube.com/embed/ca21SNqt78I?fs=1&rel=0\"\n            frameborder=\"0\"\n            allowfullscreen\n            \n        ></iframe>\n        ",
                  "image/jpeg": "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\n"
                },
                "metadata": {}
              }
            ]
          }
        },
        "0835b07be423416d8bdfd6aab89c496e": {
          "model_module": "@jupyter-widgets/output",
          "model_name": "OutputModel",
          "model_module_version": "1.0.0",
          "state": {
            "_dom_classes": [],
            "_model_module": "@jupyter-widgets/output",
            "_model_module_version": "1.0.0",
            "_model_name": "OutputModel",
            "_view_count": null,
            "_view_module": "@jupyter-widgets/output",
            "_view_module_version": "1.0.0",
            "_view_name": "OutputView",
            "layout": "IPY_MODEL_c1a23f5b2ca54256a0209a080cc300ae",
            "msg_id": "",
            "outputs": [
              {
                "output_type": "stream",
                "name": "stdout",
                "text": [
                  "Video available at https://www.bilibili.com/video/BV1Av411n7oL\n"
                ]
              },
              {
                "output_type": "display_data",
                "data": {
                  "text/plain": "<__main__.PlayVideo at 0x7f330d6f6200>",
                  "text/html": "\n        <iframe\n            width=\"854\"\n            height=\"480\"\n            src=\"https://player.bilibili.com/player.html?bvid=BV1Av411n7oL&page=1?fs=1&autoplay=False\"\n            frameborder=\"0\"\n            allowfullscreen\n            \n        ></iframe>\n        "
                },
                "metadata": {}
              }
            ]
          }
        },
        "8d78db8e0d3e41928238f3c2840ac907": {
          "model_module": "@jupyter-widgets/output",
          "model_name": "OutputModel",
          "model_module_version": "1.0.0",
          "state": {
            "_dom_classes": [],
            "_model_module": "@jupyter-widgets/output",
            "_model_module_version": "1.0.0",
            "_model_name": "OutputModel",
            "_view_count": null,
            "_view_module": "@jupyter-widgets/output",
            "_view_module_version": "1.0.0",
            "_view_name": "OutputView",
            "layout": "IPY_MODEL_0da6fe1e4c4c4b97a9b5959953902c49",
            "msg_id": "",
            "outputs": [
              {
                "output_type": "stream",
                "name": "stdout",
                "text": [
                  "Video available at https://osf.io/<video_id_3>\n"
                ]
              },
              {
                "output_type": "display_data",
                "data": {
                  "text/plain": "<__main__.PlayVideo at 0x7f330d6f52a0>",
                  "text/html": "\n        <iframe\n            width=\"854\"\n            height=\"480\"\n            src=\"https://mfr.ca-1.osf.io/render?url=https://osf.io/download/<video_id_3>/?direct%26mode=render?fs=1&autoplay=False\"\n            frameborder=\"0\"\n            allowfullscreen\n            \n        ></iframe>\n        "
                },
                "metadata": {}
              }
            ]
          }
        },
        "f145c49913904a6cb50532a9f467f166": {
          "model_module": "@jupyter-widgets/base",
          "model_name": "LayoutModel",
          "model_module_version": "1.2.0",
          "state": {
            "_model_module": "@jupyter-widgets/base",
            "_model_module_version": "1.2.0",
            "_model_name": "LayoutModel",
            "_view_count": null,
            "_view_module": "@jupyter-widgets/base",
            "_view_module_version": "1.2.0",
            "_view_name": "LayoutView",
            "align_content": null,
            "align_items": null,
            "align_self": null,
            "border": null,
            "bottom": null,
            "display": null,
            "flex": null,
            "flex_flow": null,
            "grid_area": null,
            "grid_auto_columns": null,
            "grid_auto_flow": null,
            "grid_auto_rows": null,
            "grid_column": null,
            "grid_gap": null,
            "grid_row": null,
            "grid_template_areas": null,
            "grid_template_columns": null,
            "grid_template_rows": null,
            "height": null,
            "justify_content": null,
            "justify_items": null,
            "left": null,
            "margin": null,
            "max_height": null,
            "max_width": null,
            "min_height": null,
            "min_width": null,
            "object_fit": null,
            "object_position": null,
            "order": null,
            "overflow": null,
            "overflow_x": null,
            "overflow_y": null,
            "padding": null,
            "right": null,
            "top": null,
            "visibility": null,
            "width": null
          }
        },
        "1554f4b7ce6644adadd74b222f505c51": {
          "model_module": "@jupyter-widgets/base",
          "model_name": "LayoutModel",
          "model_module_version": "1.2.0",
          "state": {
            "_model_module": "@jupyter-widgets/base",
            "_model_module_version": "1.2.0",
            "_model_name": "LayoutModel",
            "_view_count": null,
            "_view_module": "@jupyter-widgets/base",
            "_view_module_version": "1.2.0",
            "_view_name": "LayoutView",
            "align_content": null,
            "align_items": null,
            "align_self": null,
            "border": null,
            "bottom": null,
            "display": null,
            "flex": null,
            "flex_flow": null,
            "grid_area": null,
            "grid_auto_columns": null,
            "grid_auto_flow": null,
            "grid_auto_rows": null,
            "grid_column": null,
            "grid_gap": null,
            "grid_row": null,
            "grid_template_areas": null,
            "grid_template_columns": null,
            "grid_template_rows": null,
            "height": null,
            "justify_content": null,
            "justify_items": null,
            "left": null,
            "margin": null,
            "max_height": null,
            "max_width": null,
            "min_height": null,
            "min_width": null,
            "object_fit": null,
            "object_position": null,
            "order": null,
            "overflow": null,
            "overflow_x": null,
            "overflow_y": null,
            "padding": null,
            "right": null,
            "top": null,
            "visibility": null,
            "width": null
          }
        },
        "c1a23f5b2ca54256a0209a080cc300ae": {
          "model_module": "@jupyter-widgets/base",
          "model_name": "LayoutModel",
          "model_module_version": "1.2.0",
          "state": {
            "_model_module": "@jupyter-widgets/base",
            "_model_module_version": "1.2.0",
            "_model_name": "LayoutModel",
            "_view_count": null,
            "_view_module": "@jupyter-widgets/base",
            "_view_module_version": "1.2.0",
            "_view_name": "LayoutView",
            "align_content": null,
            "align_items": null,
            "align_self": null,
            "border": null,
            "bottom": null,
            "display": null,
            "flex": null,
            "flex_flow": null,
            "grid_area": null,
            "grid_auto_columns": null,
            "grid_auto_flow": null,
            "grid_auto_rows": null,
            "grid_column": null,
            "grid_gap": null,
            "grid_row": null,
            "grid_template_areas": null,
            "grid_template_columns": null,
            "grid_template_rows": null,
            "height": null,
            "justify_content": null,
            "justify_items": null,
            "left": null,
            "margin": null,
            "max_height": null,
            "max_width": null,
            "min_height": null,
            "min_width": null,
            "object_fit": null,
            "object_position": null,
            "order": null,
            "overflow": null,
            "overflow_x": null,
            "overflow_y": null,
            "padding": null,
            "right": null,
            "top": null,
            "visibility": null,
            "width": null
          }
        },
        "0da6fe1e4c4c4b97a9b5959953902c49": {
          "model_module": "@jupyter-widgets/base",
          "model_name": "LayoutModel",
          "model_module_version": "1.2.0",
          "state": {
            "_model_module": "@jupyter-widgets/base",
            "_model_module_version": "1.2.0",
            "_model_name": "LayoutModel",
            "_view_count": null,
            "_view_module": "@jupyter-widgets/base",
            "_view_module_version": "1.2.0",
            "_view_name": "LayoutView",
            "align_content": null,
            "align_items": null,
            "align_self": null,
            "border": null,
            "bottom": null,
            "display": null,
            "flex": null,
            "flex_flow": null,
            "grid_area": null,
            "grid_auto_columns": null,
            "grid_auto_flow": null,
            "grid_auto_rows": null,
            "grid_column": null,
            "grid_gap": null,
            "grid_row": null,
            "grid_template_areas": null,
            "grid_template_columns": null,
            "grid_template_rows": null,
            "height": null,
            "justify_content": null,
            "justify_items": null,
            "left": null,
            "margin": null,
            "max_height": null,
            "max_width": null,
            "min_height": null,
            "min_width": null,
            "object_fit": null,
            "object_position": null,
            "order": null,
            "overflow": null,
            "overflow_x": null,
            "overflow_y": null,
            "padding": null,
            "right": null,
            "top": null,
            "visibility": null,
            "width": null
          }
        },
        "a542ebe136a24addaa2d193a80c8a64b": {
          "model_module": "@jupyter-widgets/controls",
          "model_name": "TabModel",
          "model_module_version": "1.5.0",
          "state": {
            "_dom_classes": [],
            "_model_module": "@jupyter-widgets/controls",
            "_model_module_version": "1.5.0",
            "_model_name": "TabModel",
            "_titles": {
              "0": "Youtube",
              "1": "Bilibili",
              "2": "Osf"
            },
            "_view_count": null,
            "_view_module": "@jupyter-widgets/controls",
            "_view_module_version": "1.5.0",
            "_view_name": "TabView",
            "box_style": "",
            "children": [
              "IPY_MODEL_0ddb34df6cd747b1a9123c583b26b480",
              "IPY_MODEL_767f6df6bc04424db237b6027b3d2079",
              "IPY_MODEL_6801c1c3337441199ebc494576fc74ae"
            ],
            "layout": "IPY_MODEL_80981c157834436ba58b34187ab78a0a",
            "selected_index": 0
          }
        },
        "0ddb34df6cd747b1a9123c583b26b480": {
          "model_module": "@jupyter-widgets/output",
          "model_name": "OutputModel",
          "model_module_version": "1.0.0",
          "state": {
            "_dom_classes": [],
            "_model_module": "@jupyter-widgets/output",
            "_model_module_version": "1.0.0",
            "_model_name": "OutputModel",
            "_view_count": null,
            "_view_module": "@jupyter-widgets/output",
            "_view_module_version": "1.0.0",
            "_view_name": "OutputView",
            "layout": "IPY_MODEL_78e47c9730e94631811b86df38b57b71",
            "msg_id": "",
            "outputs": [
              {
                "output_type": "stream",
                "name": "stdout",
                "text": [
                  "Video available at https://youtube.com/watch?v=l-K6495BN-4\n"
                ]
              },
              {
                "output_type": "display_data",
                "data": {
                  "text/plain": "<IPython.lib.display.YouTubeVideo at 0x7f330d723a90>",
                  "text/html": "\n        <iframe\n            width=\"854\"\n            height=\"480\"\n            src=\"https://www.youtube.com/embed/l-K6495BN-4?fs=1&rel=0\"\n            frameborder=\"0\"\n            allowfullscreen\n            \n        ></iframe>\n        ",
                  "image/jpeg": "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\n"
                },
                "metadata": {}
              }
            ]
          }
        },
        "767f6df6bc04424db237b6027b3d2079": {
          "model_module": "@jupyter-widgets/output",
          "model_name": "OutputModel",
          "model_module_version": "1.0.0",
          "state": {
            "_dom_classes": [],
            "_model_module": "@jupyter-widgets/output",
            "_model_module_version": "1.0.0",
            "_model_name": "OutputModel",
            "_view_count": null,
            "_view_module": "@jupyter-widgets/output",
            "_view_module_version": "1.0.0",
            "_view_name": "OutputView",
            "layout": "IPY_MODEL_11cefa78395448d4ab7c9206d3ffcf82",
            "msg_id": "",
            "outputs": [
              {
                "output_type": "stream",
                "name": "stdout",
                "text": [
                  "Video available at https://www.bilibili.com/video/BV1gf4y1j7UZ\n"
                ]
              },
              {
                "output_type": "display_data",
                "data": {
                  "text/plain": "<__main__.PlayVideo at 0x7f330d7238b0>",
                  "text/html": "\n        <iframe\n            width=\"854\"\n            height=\"480\"\n            src=\"https://player.bilibili.com/player.html?bvid=BV1gf4y1j7UZ&page=1?fs=1&autoplay=False\"\n            frameborder=\"0\"\n            allowfullscreen\n            \n        ></iframe>\n        "
                },
                "metadata": {}
              }
            ]
          }
        },
        "6801c1c3337441199ebc494576fc74ae": {
          "model_module": "@jupyter-widgets/output",
          "model_name": "OutputModel",
          "model_module_version": "1.0.0",
          "state": {
            "_dom_classes": [],
            "_model_module": "@jupyter-widgets/output",
            "_model_module_version": "1.0.0",
            "_model_name": "OutputModel",
            "_view_count": null,
            "_view_module": "@jupyter-widgets/output",
            "_view_module_version": "1.0.0",
            "_view_name": "OutputView",
            "layout": "IPY_MODEL_3bebd21cc2534660832654660f0343ad",
            "msg_id": "",
            "outputs": [
              {
                "output_type": "stream",
                "name": "stdout",
                "text": [
                  "Video available at https://osf.io/<video_id_3>\n"
                ]
              },
              {
                "output_type": "display_data",
                "data": {
                  "text/plain": "<__main__.PlayVideo at 0x7f330d7238e0>",
                  "text/html": "\n        <iframe\n            width=\"854\"\n            height=\"480\"\n            src=\"https://mfr.ca-1.osf.io/render?url=https://osf.io/download/<video_id_3>/?direct%26mode=render?fs=1&autoplay=False\"\n            frameborder=\"0\"\n            allowfullscreen\n            \n        ></iframe>\n        "
                },
                "metadata": {}
              }
            ]
          }
        },
        "80981c157834436ba58b34187ab78a0a": {
          "model_module": "@jupyter-widgets/base",
          "model_name": "LayoutModel",
          "model_module_version": "1.2.0",
          "state": {
            "_model_module": "@jupyter-widgets/base",
            "_model_module_version": "1.2.0",
            "_model_name": "LayoutModel",
            "_view_count": null,
            "_view_module": "@jupyter-widgets/base",
            "_view_module_version": "1.2.0",
            "_view_name": "LayoutView",
            "align_content": null,
            "align_items": null,
            "align_self": null,
            "border": null,
            "bottom": null,
            "display": null,
            "flex": null,
            "flex_flow": null,
            "grid_area": null,
            "grid_auto_columns": null,
            "grid_auto_flow": null,
            "grid_auto_rows": null,
            "grid_column": null,
            "grid_gap": null,
            "grid_row": null,
            "grid_template_areas": null,
            "grid_template_columns": null,
            "grid_template_rows": null,
            "height": null,
            "justify_content": null,
            "justify_items": null,
            "left": null,
            "margin": null,
            "max_height": null,
            "max_width": null,
            "min_height": null,
            "min_width": null,
            "object_fit": null,
            "object_position": null,
            "order": null,
            "overflow": null,
            "overflow_x": null,
            "overflow_y": null,
            "padding": null,
            "right": null,
            "top": null,
            "visibility": null,
            "width": null
          }
        },
        "78e47c9730e94631811b86df38b57b71": {
          "model_module": "@jupyter-widgets/base",
          "model_name": "LayoutModel",
          "model_module_version": "1.2.0",
          "state": {
            "_model_module": "@jupyter-widgets/base",
            "_model_module_version": "1.2.0",
            "_model_name": "LayoutModel",
            "_view_count": null,
            "_view_module": "@jupyter-widgets/base",
            "_view_module_version": "1.2.0",
            "_view_name": "LayoutView",
            "align_content": null,
            "align_items": null,
            "align_self": null,
            "border": null,
            "bottom": null,
            "display": null,
            "flex": null,
            "flex_flow": null,
            "grid_area": null,
            "grid_auto_columns": null,
            "grid_auto_flow": null,
            "grid_auto_rows": null,
            "grid_column": null,
            "grid_gap": null,
            "grid_row": null,
            "grid_template_areas": null,
            "grid_template_columns": null,
            "grid_template_rows": null,
            "height": null,
            "justify_content": null,
            "justify_items": null,
            "left": null,
            "margin": null,
            "max_height": null,
            "max_width": null,
            "min_height": null,
            "min_width": null,
            "object_fit": null,
            "object_position": null,
            "order": null,
            "overflow": null,
            "overflow_x": null,
            "overflow_y": null,
            "padding": null,
            "right": null,
            "top": null,
            "visibility": null,
            "width": null
          }
        },
        "11cefa78395448d4ab7c9206d3ffcf82": {
          "model_module": "@jupyter-widgets/base",
          "model_name": "LayoutModel",
          "model_module_version": "1.2.0",
          "state": {
            "_model_module": "@jupyter-widgets/base",
            "_model_module_version": "1.2.0",
            "_model_name": "LayoutModel",
            "_view_count": null,
            "_view_module": "@jupyter-widgets/base",
            "_view_module_version": "1.2.0",
            "_view_name": "LayoutView",
            "align_content": null,
            "align_items": null,
            "align_self": null,
            "border": null,
            "bottom": null,
            "display": null,
            "flex": null,
            "flex_flow": null,
            "grid_area": null,
            "grid_auto_columns": null,
            "grid_auto_flow": null,
            "grid_auto_rows": null,
            "grid_column": null,
            "grid_gap": null,
            "grid_row": null,
            "grid_template_areas": null,
            "grid_template_columns": null,
            "grid_template_rows": null,
            "height": null,
            "justify_content": null,
            "justify_items": null,
            "left": null,
            "margin": null,
            "max_height": null,
            "max_width": null,
            "min_height": null,
            "min_width": null,
            "object_fit": null,
            "object_position": null,
            "order": null,
            "overflow": null,
            "overflow_x": null,
            "overflow_y": null,
            "padding": null,
            "right": null,
            "top": null,
            "visibility": null,
            "width": null
          }
        },
        "3bebd21cc2534660832654660f0343ad": {
          "model_module": "@jupyter-widgets/base",
          "model_name": "LayoutModel",
          "model_module_version": "1.2.0",
          "state": {
            "_model_module": "@jupyter-widgets/base",
            "_model_module_version": "1.2.0",
            "_model_name": "LayoutModel",
            "_view_count": null,
            "_view_module": "@jupyter-widgets/base",
            "_view_module_version": "1.2.0",
            "_view_name": "LayoutView",
            "align_content": null,
            "align_items": null,
            "align_self": null,
            "border": null,
            "bottom": null,
            "display": null,
            "flex": null,
            "flex_flow": null,
            "grid_area": null,
            "grid_auto_columns": null,
            "grid_auto_flow": null,
            "grid_auto_rows": null,
            "grid_column": null,
            "grid_gap": null,
            "grid_row": null,
            "grid_template_areas": null,
            "grid_template_columns": null,
            "grid_template_rows": null,
            "height": null,
            "justify_content": null,
            "justify_items": null,
            "left": null,
            "margin": null,
            "max_height": null,
            "max_width": null,
            "min_height": null,
            "min_width": null,
            "object_fit": null,
            "object_position": null,
            "order": null,
            "overflow": null,
            "overflow_x": null,
            "overflow_y": null,
            "padding": null,
            "right": null,
            "top": null,
            "visibility": null,
            "width": null
          }
        },
        "c3d1a876fdab4714a852d3126da3cf34": {
          "model_module": "@jupyter-widgets/controls",
          "model_name": "TabModel",
          "model_module_version": "1.5.0",
          "state": {
            "_dom_classes": [],
            "_model_module": "@jupyter-widgets/controls",
            "_model_module_version": "1.5.0",
            "_model_name": "TabModel",
            "_titles": {
              "0": "Youtube",
              "1": "Bilibili",
              "2": "Osf"
            },
            "_view_count": null,
            "_view_module": "@jupyter-widgets/controls",
            "_view_module_version": "1.5.0",
            "_view_name": "TabView",
            "box_style": "",
            "children": [
              "IPY_MODEL_5762f8db70d4468dba6451571cb725a9",
              "IPY_MODEL_9d1a7c16c5664ff5ba16fab43c82c048",
              "IPY_MODEL_a0c693fc4300438eb05b7854c5ea2245"
            ],
            "layout": "IPY_MODEL_fb7b2cfefb1d4d8ab794c74cd8a27af2",
            "selected_index": 0
          }
        },
        "5762f8db70d4468dba6451571cb725a9": {
          "model_module": "@jupyter-widgets/output",
          "model_name": "OutputModel",
          "model_module_version": "1.0.0",
          "state": {
            "_dom_classes": [],
            "_model_module": "@jupyter-widgets/output",
            "_model_module_version": "1.0.0",
            "_model_name": "OutputModel",
            "_view_count": null,
            "_view_module": "@jupyter-widgets/output",
            "_view_module_version": "1.0.0",
            "_view_name": "OutputView",
            "layout": "IPY_MODEL_dc5466ab3c0144289698be7f3b4c1b5e",
            "msg_id": "",
            "outputs": [
              {
                "output_type": "stream",
                "name": "stdout",
                "text": [
                  "Video available at https://youtube.com/watch?v=video_id_youtube\n"
                ]
              },
              {
                "output_type": "display_data",
                "data": {
                  "text/plain": "<IPython.lib.display.YouTubeVideo at 0x7f33c1866e00>",
                  "text/html": "\n        <iframe\n            width=\"854\"\n            height=\"480\"\n            src=\"https://www.youtube.com/embed/video_id_youtube?fs=1&rel=0\"\n            frameborder=\"0\"\n            allowfullscreen\n            \n        ></iframe>\n        "
                },
                "metadata": {}
              }
            ]
          }
        },
        "9d1a7c16c5664ff5ba16fab43c82c048": {
          "model_module": "@jupyter-widgets/output",
          "model_name": "OutputModel",
          "model_module_version": "1.0.0",
          "state": {
            "_dom_classes": [],
            "_model_module": "@jupyter-widgets/output",
            "_model_module_version": "1.0.0",
            "_model_name": "OutputModel",
            "_view_count": null,
            "_view_module": "@jupyter-widgets/output",
            "_view_module_version": "1.0.0",
            "_view_name": "OutputView",
            "layout": "IPY_MODEL_915c85ac0bdc4e51be94de5cef7500e5",
            "msg_id": "",
            "outputs": [
              {
                "output_type": "stream",
                "name": "stdout",
                "text": [
                  "Video available at https://www.bilibili.com/video/video_id_bilibili\n"
                ]
              },
              {
                "output_type": "display_data",
                "data": {
                  "text/plain": "<__main__.PlayVideo at 0x7f330a43c730>",
                  "text/html": "\n        <iframe\n            width=\"854\"\n            height=\"480\"\n            src=\"https://player.bilibili.com/player.html?bvid=video_id_bilibili&page=1?fs=1&autoplay=False\"\n            frameborder=\"0\"\n            allowfullscreen\n            \n        ></iframe>\n        "
                },
                "metadata": {}
              }
            ]
          }
        },
        "a0c693fc4300438eb05b7854c5ea2245": {
          "model_module": "@jupyter-widgets/output",
          "model_name": "OutputModel",
          "model_module_version": "1.0.0",
          "state": {
            "_dom_classes": [],
            "_model_module": "@jupyter-widgets/output",
            "_model_module_version": "1.0.0",
            "_model_name": "OutputModel",
            "_view_count": null,
            "_view_module": "@jupyter-widgets/output",
            "_view_module_version": "1.0.0",
            "_view_name": "OutputView",
            "layout": "IPY_MODEL_790f8997923841b6996128eaf2fa7f10",
            "msg_id": "",
            "outputs": [
              {
                "output_type": "stream",
                "name": "stdout",
                "text": [
                  "Video available at https://osf.io/video_id_osf\n"
                ]
              },
              {
                "output_type": "display_data",
                "data": {
                  "text/plain": "<__main__.PlayVideo at 0x7f330a43cb50>",
                  "text/html": "\n        <iframe\n            width=\"854\"\n            height=\"480\"\n            src=\"https://mfr.ca-1.osf.io/render?url=https://osf.io/download/video_id_osf/?direct%26mode=render?fs=1&autoplay=False\"\n            frameborder=\"0\"\n            allowfullscreen\n            \n        ></iframe>\n        "
                },
                "metadata": {}
              }
            ]
          }
        },
        "fb7b2cfefb1d4d8ab794c74cd8a27af2": {
          "model_module": "@jupyter-widgets/base",
          "model_name": "LayoutModel",
          "model_module_version": "1.2.0",
          "state": {
            "_model_module": "@jupyter-widgets/base",
            "_model_module_version": "1.2.0",
            "_model_name": "LayoutModel",
            "_view_count": null,
            "_view_module": "@jupyter-widgets/base",
            "_view_module_version": "1.2.0",
            "_view_name": "LayoutView",
            "align_content": null,
            "align_items": null,
            "align_self": null,
            "border": null,
            "bottom": null,
            "display": null,
            "flex": null,
            "flex_flow": null,
            "grid_area": null,
            "grid_auto_columns": null,
            "grid_auto_flow": null,
            "grid_auto_rows": null,
            "grid_column": null,
            "grid_gap": null,
            "grid_row": null,
            "grid_template_areas": null,
            "grid_template_columns": null,
            "grid_template_rows": null,
            "height": null,
            "justify_content": null,
            "justify_items": null,
            "left": null,
            "margin": null,
            "max_height": null,
            "max_width": null,
            "min_height": null,
            "min_width": null,
            "object_fit": null,
            "object_position": null,
            "order": null,
            "overflow": null,
            "overflow_x": null,
            "overflow_y": null,
            "padding": null,
            "right": null,
            "top": null,
            "visibility": null,
            "width": null
          }
        },
        "dc5466ab3c0144289698be7f3b4c1b5e": {
          "model_module": "@jupyter-widgets/base",
          "model_name": "LayoutModel",
          "model_module_version": "1.2.0",
          "state": {
            "_model_module": "@jupyter-widgets/base",
            "_model_module_version": "1.2.0",
            "_model_name": "LayoutModel",
            "_view_count": null,
            "_view_module": "@jupyter-widgets/base",
            "_view_module_version": "1.2.0",
            "_view_name": "LayoutView",
            "align_content": null,
            "align_items": null,
            "align_self": null,
            "border": null,
            "bottom": null,
            "display": null,
            "flex": null,
            "flex_flow": null,
            "grid_area": null,
            "grid_auto_columns": null,
            "grid_auto_flow": null,
            "grid_auto_rows": null,
            "grid_column": null,
            "grid_gap": null,
            "grid_row": null,
            "grid_template_areas": null,
            "grid_template_columns": null,
            "grid_template_rows": null,
            "height": null,
            "justify_content": null,
            "justify_items": null,
            "left": null,
            "margin": null,
            "max_height": null,
            "max_width": null,
            "min_height": null,
            "min_width": null,
            "object_fit": null,
            "object_position": null,
            "order": null,
            "overflow": null,
            "overflow_x": null,
            "overflow_y": null,
            "padding": null,
            "right": null,
            "top": null,
            "visibility": null,
            "width": null
          }
        },
        "915c85ac0bdc4e51be94de5cef7500e5": {
          "model_module": "@jupyter-widgets/base",
          "model_name": "LayoutModel",
          "model_module_version": "1.2.0",
          "state": {
            "_model_module": "@jupyter-widgets/base",
            "_model_module_version": "1.2.0",
            "_model_name": "LayoutModel",
            "_view_count": null,
            "_view_module": "@jupyter-widgets/base",
            "_view_module_version": "1.2.0",
            "_view_name": "LayoutView",
            "align_content": null,
            "align_items": null,
            "align_self": null,
            "border": null,
            "bottom": null,
            "display": null,
            "flex": null,
            "flex_flow": null,
            "grid_area": null,
            "grid_auto_columns": null,
            "grid_auto_flow": null,
            "grid_auto_rows": null,
            "grid_column": null,
            "grid_gap": null,
            "grid_row": null,
            "grid_template_areas": null,
            "grid_template_columns": null,
            "grid_template_rows": null,
            "height": null,
            "justify_content": null,
            "justify_items": null,
            "left": null,
            "margin": null,
            "max_height": null,
            "max_width": null,
            "min_height": null,
            "min_width": null,
            "object_fit": null,
            "object_position": null,
            "order": null,
            "overflow": null,
            "overflow_x": null,
            "overflow_y": null,
            "padding": null,
            "right": null,
            "top": null,
            "visibility": null,
            "width": null
          }
        },
        "790f8997923841b6996128eaf2fa7f10": {
          "model_module": "@jupyter-widgets/base",
          "model_name": "LayoutModel",
          "model_module_version": "1.2.0",
          "state": {
            "_model_module": "@jupyter-widgets/base",
            "_model_module_version": "1.2.0",
            "_model_name": "LayoutModel",
            "_view_count": null,
            "_view_module": "@jupyter-widgets/base",
            "_view_module_version": "1.2.0",
            "_view_name": "LayoutView",
            "align_content": null,
            "align_items": null,
            "align_self": null,
            "border": null,
            "bottom": null,
            "display": null,
            "flex": null,
            "flex_flow": null,
            "grid_area": null,
            "grid_auto_columns": null,
            "grid_auto_flow": null,
            "grid_auto_rows": null,
            "grid_column": null,
            "grid_gap": null,
            "grid_row": null,
            "grid_template_areas": null,
            "grid_template_columns": null,
            "grid_template_rows": null,
            "height": null,
            "justify_content": null,
            "justify_items": null,
            "left": null,
            "margin": null,
            "max_height": null,
            "max_width": null,
            "min_height": null,
            "min_width": null,
            "object_fit": null,
            "object_position": null,
            "order": null,
            "overflow": null,
            "overflow_x": null,
            "overflow_y": null,
            "padding": null,
            "right": null,
            "top": null,
            "visibility": null,
            "width": null
          }
        }
      }
    }
  },
  "cells": [
    {
      "cell_type": "markdown",
      "metadata": {
        "id": "view-in-github",
        "colab_type": "text"
      },
      "source": [
        "<a href=\"https://colab.research.google.com/github/NeuromatchAcademy/content-creation/blob/updates/NeuromatchAcademy_DL_Tutorial_Carpentry.ipynb\" target=\"_parent\"><img src=\"https://colab.research.google.com/assets/colab-badge.svg\" alt=\"Open In Colab\"/></a>"
      ]
    },
    {
      "cell_type": "markdown",
      "metadata": {
        "id": "fDXAYdIHuyCV"
      },
      "source": [
        "# Tutorial ?: Tutorial's name\n",
        "**Week ?, Day ?: Name of the day**\n",
        "\n",
        "**By Neuromatch Academy**\n",
        "\n",
        "__Content creators:__ Name Surname, Name Surname, Day Lead's Name\n",
        "\n",
        "__Content reviewers:__ Name Surname, Name Surname\n",
        "\n",
        "__Content editors:__ Name Surname, Name Surname\n",
        "\n",
        "__Production editors:__ Name Surname, Name Surname\n",
        "\n",
        "\n",
        "\n",
        "\n",
        "-This tutorial carpentry was originally written by *Kelson Shilling-Scrivo*"
      ]
    },
    {
      "cell_type": "markdown",
      "metadata": {
        "id": "qfFA1VsB4Ieb"
      },
      "source": [
        "**Our 2021 Sponsors, including Presenting Sponsor Facebook Reality Labs**\n",
        "\n",
        "<p align='center'><img src='https://github.com/NeuromatchAcademy/widgets/blob/master/sponsors.png?raw=True'/></p>"
      ]
    },
    {
      "cell_type": "markdown",
      "metadata": {
        "id": "gzAa0I1xZ79h"
      },
      "source": [
        "---\n",
        "#Tutorial Objectives\n",
        "\n",
        "Teach how to create didactic, easily digestable and fun content for the NMA-DL course.\n",
        "\n",
        "\n",
        "\n",
        "This course will teach you:\n",
        "*   DL code Styleguide\n",
        "*   Video Do's / Don'ts\n",
        "*   Written Content Do's / Don'ts\n",
        "*   Exercise Creation Do's don't\n",
        "\n",
        "This course will not teach you:\n",
        "\n",
        "*   Tutorial formatting [found here](https://github.com/NeuromatchAcademy/content-creation/blob/main/Neuromatch_Tutorial_Format.ipynb)\n",
        "\n",
        "\n",
        "\n",
        "\n"
      ]
    },
    {
      "cell_type": "code",
      "metadata": {
        "id": "6C8JNxNy7KvH",
        "colab": {
          "base_uri": "https://localhost:8080/",
          "height": 520
        },
        "outputId": "27ab8331-88f3-4139-fdeb-e662693368ab"
      },
      "source": [
        "# @title Tutorial slides\n",
        "# @markdown These are the slides for the videos in the tutorial\n",
        "from IPython.display import IFrame\n",
        "link_id = \"wcjrv\"\n",
        "print(f\"If you want to download the slides: https://osf.io/download/{link_id}/\")\n",
        "IFrame(src=f\"https://mfr.ca-1.osf.io/render?url=https://osf.io/{link_id}/?direct%26mode=render%26action=download%26mode=render\", width=854, height=480)"
      ],
      "execution_count": 8,
      "outputs": [
        {
          "output_type": "stream",
          "name": "stdout",
          "text": [
            "If you want to download the slides: https://osf.io/download/wcjrv/\n"
          ]
        },
        {
          "output_type": "execute_result",
          "data": {
            "text/plain": [
              "<IPython.lib.display.IFrame at 0x7f33c1867550>"
            ],
            "text/html": [
              "\n",
              "        <iframe\n",
              "            width=\"854\"\n",
              "            height=\"480\"\n",
              "            src=\"https://mfr.ca-1.osf.io/render?url=https://osf.io/wcjrv/?direct%26mode=render%26action=download%26mode=render\"\n",
              "            frameborder=\"0\"\n",
              "            allowfullscreen\n",
              "            \n",
              "        ></iframe>\n",
              "        "
            ]
          },
          "metadata": {},
          "execution_count": 8
        }
      ]
    },
    {
      "cell_type": "markdown",
      "metadata": {
        "id": "KXX5qll-dtCl"
      },
      "source": [
        "---\n",
        "# Setup"
      ]
    },
    {
      "cell_type": "code",
      "metadata": {
        "id": "z5cg3uWKcRLK",
        "outputId": "deef89a6-b9ce-427b-d215-66ab4a68bd00",
        "colab": {
          "base_uri": "https://localhost:8080/"
        }
      },
      "source": [
        "# @title Install dependencies\n",
        "# @markdown ##### **WARNING:** There may be *errors* and/or *warnings* reported during the installation. However, they should be ignored.\n",
        "\n",
        "# If any external library has to be installed, !pip install library --quiet\n",
        "\n",
        "!pip install einops --quiet #TODO get einops installed by default "
      ],
      "execution_count": 9,
      "outputs": [
        {
          "output_type": "stream",
          "name": "stdout",
          "text": [
            "\u001b[?25l     \u001b[90m━━━━━━━━━━━━━━━━━━━━━━━━━━━━━━━━━━━━━━━━\u001b[0m \u001b[32m0.0/42.2 kB\u001b[0m \u001b[31m?\u001b[0m eta \u001b[36m-:--:--\u001b[0m\r\u001b[2K     \u001b[90m━━━━━━━━━━━━━━━━━━━━━━━━━━━━━━━━━━━━━━━━\u001b[0m \u001b[32m42.2/42.2 kB\u001b[0m \u001b[31m4.6 MB/s\u001b[0m eta \u001b[36m0:00:00\u001b[0m\n",
            "\u001b[?25h"
          ]
        }
      ]
    },
    {
      "cell_type": "code",
      "metadata": {
        "cellView": "both",
        "id": "3Yuh005kCT0v"
      },
      "source": [
        "# Import\n",
        "# Import only the libraries/objects that you use in this tutorial. \n",
        "\n",
        "# follow this order: numpy>matplotlib. \n",
        "# import widgets in hidden Figure settings cell\n",
        "\n",
        "import os\n",
        "import pathlib\n",
        "import numpy as np\n",
        "import pandas as pd\n",
        "import matplotlib.cm as cm\n",
        "import matplotlib.pyplot as plt\n",
        "import matplotlib.ticker as ticker\n",
        "from tqdm.notebook import tqdm, trange\n",
        "\n",
        "# torch import style\n",
        "import torch\n",
        "import torch.nn as nn\n",
        "import torch.optim as optim\n",
        "import torch.nn.functional as F\n",
        "import torchvision.transforms as transforms\n",
        "from torchvision.datasets import ImageFolder\n",
        "import torchvision.datasets as datasets\n",
        "from torch.utils.data import DataLoader, TensorDataset\n",
        "from torchvision.utils import make_grid\n",
        "from IPython.display import HTML, display"
      ],
      "execution_count": 10,
      "outputs": []
    },
    {
      "cell_type": "code",
      "metadata": {
        "id": "PCOz4jKJXGya"
      },
      "source": [
        "# @title Figure settings\n",
        "import ipywidgets as widgets  # interactive display\n",
        "%config InlineBackend.figure_format = 'retina'\n",
        "plt.style.use(\"https://raw.githubusercontent.com/NeuromatchAcademy/content-creation/main/nma.mplstyle\")"
      ],
      "execution_count": 11,
      "outputs": []
    },
    {
      "cell_type": "markdown",
      "metadata": {
        "id": "fbUVuJDTSmZP"
      },
      "source": [
        "# Common Helper Functions "
      ]
    },
    {
      "cell_type": "code",
      "metadata": {
        "id": "vG8R5TW1eGWS"
      },
      "source": [
        "# @title Helper functions"
      ],
      "execution_count": 12,
      "outputs": []
    },
    {
      "cell_type": "code",
      "metadata": {
        "id": "36wVs0wpeJSP"
      },
      "source": [
        "# @title Plotting functions\n",
        "import logging\n",
        "logging.getLogger('matplotlib.font_manager').disabled = True"
      ],
      "execution_count": 13,
      "outputs": []
    },
    {
      "cell_type": "code",
      "metadata": {
        "id": "vGVC4AWz41jD",
        "colab": {
          "base_uri": "https://localhost:8080/"
        },
        "outputId": "dac2d41f-270b-40a8-8a22-71116127d7fa"
      },
      "source": [
        "# @title Set random seed\n",
        "\n",
        "# @markdown Executing `set_seed(seed=seed)` you are setting the seed\n",
        "\n",
        "# for DL its critical to set the random seed so that students can have a\n",
        "# baseline to compare their results to expected results.\n",
        "# Read more here: https://pytorch.org/docs/stable/notes/randomness.html\n",
        "\n",
        "# Call `set_seed` function in the exercises to ensure reproducibility.\n",
        "import random\n",
        "import torch\n",
        "import numpy as np\n",
        "\n",
        "def set_seed(seed=None, seed_torch=True):\n",
        "  if seed is None:\n",
        "    seed = np.random.choice(2 ** 32)\n",
        "  random.seed(seed)\n",
        "  np.random.seed(seed)\n",
        "  if seed_torch:\n",
        "    torch.manual_seed(seed)\n",
        "    torch.cuda.manual_seed_all(seed)\n",
        "    torch.cuda.manual_seed(seed)\n",
        "    torch.backends.cudnn.benchmark = False\n",
        "    torch.backends.cudnn.deterministic = True\n",
        "\n",
        "  print(f'Random seed {seed} has been set.')\n",
        "\n",
        "# In case that `DataLoader` is used\n",
        "def seed_worker(worker_id):\n",
        "  worker_seed = torch.initial_seed() % 2**32\n",
        "  np.random.seed(worker_seed)\n",
        "  random.seed(worker_seed)\n",
        "\n",
        "\n",
        "# Before the exercises it should re-executed to ensure reproducibility\n",
        "set_seed(seed=2021)  # change 2021 with any number you like"
      ],
      "execution_count": 14,
      "outputs": [
        {
          "output_type": "stream",
          "name": "stdout",
          "text": [
            "Random seed 2021 has been set.\n"
          ]
        }
      ]
    },
    {
      "cell_type": "code",
      "metadata": {
        "id": "gqgSq2WT_yEz"
      },
      "source": [
        "# @title Set device (GPU or CPU). Execute `set_device()`\n",
        "\n",
        "# inform the user if the notebook uses GPU or CPU.\n",
        "\n",
        "def set_device():\n",
        "  device = \"cuda\" if torch.cuda.is_available() else \"cpu\"\n",
        "  if device != \"cuda\":\n",
        "    print(\"GPU is not enabled in this notebook. \\n\"\n",
        "          \"If you want to enable it, in the menu under `Runtime` -> \\n\"\n",
        "          \"`Hardware accelerator.` and select `GPU` from the dropdown menu\")\n",
        "  else:\n",
        "    print(\"GPU is enabled in this notebook. \\n\"\n",
        "          \"If you want to disable it, in the menu under `Runtime` -> \\n\"\n",
        "          \"`Hardware accelerator.` and select `None` from the dropdown menu\")\n",
        "\n",
        "  return device"
      ],
      "execution_count": 15,
      "outputs": []
    },
    {
      "cell_type": "code",
      "metadata": {
        "id": "YvR8oC4K4nH4",
        "colab": {
          "base_uri": "https://localhost:8080/"
        },
        "outputId": "8f22e6a0-7842-481b-aee8-53df815d090c"
      },
      "source": [
        "SEED = 2021\n",
        "set_seed(seed=SEED)\n",
        "DEVICE = set_device()"
      ],
      "execution_count": 16,
      "outputs": [
        {
          "output_type": "stream",
          "name": "stdout",
          "text": [
            "Random seed 2021 has been set.\n",
            "GPU is not enabled in this notebook. \n",
            "If you want to enable it, in the menu under `Runtime` -> \n",
            "`Hardware accelerator.` and select `GPU` from the dropdown menu\n"
          ]
        }
      ]
    },
    {
      "cell_type": "markdown",
      "metadata": {
        "id": "nULavCfq4o07"
      },
      "source": [
        "---\n",
        "\n",
        "# Section 1: Videos"
      ]
    },
    {
      "cell_type": "markdown",
      "metadata": {
        "id": "MycGcXpOi_E6"
      },
      "source": [
        "Place the youtube video ID and then hide the cell. Videos can be found [here](https://docs.google.com/spreadsheets/d/1I-q6YRn-o9XCE45KCd4zs80LKPiu7BvuqmAO_xIr55Y/edit?usp=sharing). The list is continuously being updated."
      ]
    },
    {
      "cell_type": "code",
      "metadata": {
        "colab": {
          "base_uri": "https://localhost:8080/",
          "height": 582,
          "referenced_widgets": [
            "cb76e665e661436abbf6ae49eb5a33ac",
            "a2629c303282477982c2de8d023b065e",
            "0835b07be423416d8bdfd6aab89c496e",
            "8d78db8e0d3e41928238f3c2840ac907",
            "f145c49913904a6cb50532a9f467f166",
            "1554f4b7ce6644adadd74b222f505c51",
            "c1a23f5b2ca54256a0209a080cc300ae",
            "0da6fe1e4c4c4b97a9b5959953902c49"
          ]
        },
        "id": "ThcPwgvzvV-6",
        "outputId": "697c5174-abe3-43f7-f56a-6fa5230a3daf"
      },
      "source": [
        "# @title Video 1: Video 1 Name\n",
        "from ipywidgets import widgets\n",
        "from IPython.display import YouTubeVideo\n",
        "from IPython.display import IFrame\n",
        "from IPython.display import display\n",
        "\n",
        "\n",
        "class PlayVideo(IFrame):\n",
        "  def __init__(self, id, source, page=1, width=400, height=300, **kwargs):\n",
        "    self.id = id\n",
        "    if source == 'Bilibili':\n",
        "      src = f'https://player.bilibili.com/player.html?bvid={id}&page={page}'\n",
        "    elif source == 'Osf':\n",
        "      src = f'https://mfr.ca-1.osf.io/render?url=https://osf.io/download/{id}/?direct%26mode=render'\n",
        "    super(PlayVideo, self).__init__(src, width, height, **kwargs)\n",
        "\n",
        "\n",
        "def display_videos(video_ids, W=400, H=300, fs=1):\n",
        "  tab_contents = []\n",
        "  for i, video_id in enumerate(video_ids):\n",
        "    out = widgets.Output()\n",
        "    with out:\n",
        "      if video_ids[i][0] == 'Youtube':\n",
        "        video = YouTubeVideo(id=video_ids[i][1], width=W,\n",
        "                             height=H, fs=fs, rel=0)\n",
        "        print(f'Video available at https://youtube.com/watch?v={video.id}')\n",
        "      else:\n",
        "        video = PlayVideo(id=video_ids[i][1], source=video_ids[i][0], width=W,\n",
        "                          height=H, fs=fs, autoplay=False)\n",
        "        if video_ids[i][0] == 'Bilibili':\n",
        "          print(f'Video available at https://www.bilibili.com/video/{video.id}')\n",
        "        elif video_ids[i][0] == 'Osf':\n",
        "          print(f'Video available at https://osf.io/{video.id}')  \n",
        "      display(video)\n",
        "    tab_contents.append(out)\n",
        "  return tab_contents\n",
        "\n",
        "\n",
        "video_ids = [('Youtube', 'ca21SNqt78I'), ('Bilibili', 'BV1Av411n7oL'), ('Osf', '<video_id_3>')]\n",
        "tab_contents = display_videos(video_ids, W=854, H=480)\n",
        "tabs = widgets.Tab()\n",
        "tabs.children = tab_contents\n",
        "for i in range(len(tab_contents)):\n",
        "  tabs.set_title(i, video_ids[i][0])\n",
        "display(tabs)"
      ],
      "execution_count": 17,
      "outputs": [
        {
          "output_type": "display_data",
          "data": {
            "text/plain": [
              "Tab(children=(Output(), Output(), Output()), _titles={'0': 'Youtube', '1': 'Bilibili', '2': 'Osf'})"
            ],
            "application/vnd.jupyter.widget-view+json": {
              "version_major": 2,
              "version_minor": 0,
              "model_id": "cb76e665e661436abbf6ae49eb5a33ac"
            }
          },
          "metadata": {}
        }
      ]
    },
    {
      "cell_type": "markdown",
      "metadata": {
        "id": "7w9LT3ywjeNH"
      },
      "source": [
        "The final cell with the video should look like the one below:"
      ]
    },
    {
      "cell_type": "code",
      "metadata": {
        "colab": {
          "base_uri": "https://localhost:8080/",
          "height": 582,
          "referenced_widgets": [
            "a542ebe136a24addaa2d193a80c8a64b",
            "0ddb34df6cd747b1a9123c583b26b480",
            "767f6df6bc04424db237b6027b3d2079",
            "6801c1c3337441199ebc494576fc74ae",
            "80981c157834436ba58b34187ab78a0a",
            "78e47c9730e94631811b86df38b57b71",
            "11cefa78395448d4ab7c9206d3ffcf82",
            "3bebd21cc2534660832654660f0343ad"
          ]
        },
        "id": "0ORMQP5RjkIk",
        "cellView": "form",
        "outputId": "d774bc56-32dc-4d66-82d0-4c26ac2b9406"
      },
      "source": [
        "# @title Video 2: Video 2 Name\n",
        "from ipywidgets import widgets\n",
        "from IPython.display import YouTubeVideo\n",
        "from IPython.display import IFrame\n",
        "from IPython.display import display\n",
        "\n",
        "\n",
        "class PlayVideo(IFrame):\n",
        "  def __init__(self, id, source, page=1, width=400, height=300, **kwargs):\n",
        "    self.id = id\n",
        "    if source == 'Bilibili':\n",
        "      src = f'https://player.bilibili.com/player.html?bvid={id}&page={page}'\n",
        "    elif source == 'Osf':\n",
        "      src = f'https://mfr.ca-1.osf.io/render?url=https://osf.io/download/{id}/?direct%26mode=render'\n",
        "    super(PlayVideo, self).__init__(src, width, height, **kwargs)\n",
        "\n",
        "\n",
        "def display_videos(video_ids, W=400, H=300, fs=1):\n",
        "  tab_contents = []\n",
        "  for i, video_id in enumerate(video_ids):\n",
        "    out = widgets.Output()\n",
        "    with out:\n",
        "      if video_ids[i][0] == 'Youtube':\n",
        "        video = YouTubeVideo(id=video_ids[i][1], width=W,\n",
        "                             height=H, fs=fs, rel=0)\n",
        "        print(f'Video available at https://youtube.com/watch?v={video.id}')\n",
        "      else:\n",
        "        video = PlayVideo(id=video_ids[i][1], source=video_ids[i][0], width=W,\n",
        "                          height=H, fs=fs, autoplay=False)\n",
        "        if video_ids[i][0] == 'Bilibili':\n",
        "          print(f'Video available at https://www.bilibili.com/video/{video.id}')\n",
        "        elif video_ids[i][0] == 'Osf':\n",
        "          print(f'Video available at https://osf.io/{video.id}')  \n",
        "      display(video)\n",
        "    tab_contents.append(out)\n",
        "  return tab_contents\n",
        "\n",
        "\n",
        "video_ids = [('Youtube', 'l-K6495BN-4'), ('Bilibili', 'BV1gf4y1j7UZ'), ('Osf', '<video_id_3>')]\n",
        "tab_contents = display_videos(video_ids, W=854, H=480)\n",
        "tabs = widgets.Tab()\n",
        "tabs.children = tab_contents\n",
        "for i in range(len(tab_contents)):\n",
        "  tabs.set_title(i, video_ids[i][0])\n",
        "display(tabs)"
      ],
      "execution_count": 18,
      "outputs": [
        {
          "output_type": "display_data",
          "data": {
            "text/plain": [
              "Tab(children=(Output(), Output(), Output()), _titles={'0': 'Youtube', '1': 'Bilibili', '2': 'Osf'})"
            ],
            "application/vnd.jupyter.widget-view+json": {
              "version_major": 2,
              "version_minor": 0,
              "model_id": "a542ebe136a24addaa2d193a80c8a64b"
            }
          },
          "metadata": {}
        }
      ]
    },
    {
      "cell_type": "markdown",
      "metadata": {
        "id": "z8axuI6upLv4"
      },
      "source": [
        "Take-aways: \n",
        "\n",
        "1.   one concept per video \n",
        "2.   many small videos preferable to 1 large video\n",
        "3.   Keep distance between idea and interaction small \n",
        "\n",
        "Do not: \n",
        "\n",
        "1.   Speak in mathematical notation \n",
        "\n",
        "\n",
        "> instead of: as we increase alpha, Say : as  we increase the learning rate. \n",
        "\n"
      ]
    },
    {
      "cell_type": "markdown",
      "metadata": {
        "id": "j9n17gXFOIXX"
      },
      "source": [
        "---\n",
        "# Section 2: Written Text\n",
        "The text is meant to suppliment the videos and reiterate the key information provided in the lecture. It is the RAM buffer that stores the key points of the video while they complete the exercise. It is **not** a source of completely new information. Writing an entire section with a new concept entirely in text form is a anti-pattern and usually a sign that a video was missing a key concept, and a large written section was used as a band-aid. \n",
        "\n",
        "\n",
        "\n",
        "\n",
        "\n",
        "\n"
      ]
    },
    {
      "cell_type": "markdown",
      "metadata": {
        "id": "6StJS7a_yFbO"
      },
      "source": [
        "---\n",
        "# Section 3: Writing Exercises "
      ]
    },
    {
      "cell_type": "markdown",
      "metadata": {
        "id": "KMFOHL7Pj8mf"
      },
      "source": [
        "This exercise fits in this subsection so is a level 3 header. We name it after the section it is in.\n",
        "\n",
        "Very briefly summarize the exercise here. The first exercise should not be too difficult, to serve as a warm-up for students. Outputs of the code cell will ideally be a plot or a print of the architecture (so students can easily check against the correct one). In limited cases, the output may be printing numbers, text, etc. In that case you need to write the solution output manually after the exercise (E.g.: \"You should see the syntetic data when running the cell above\")."
      ]
    },
    {
      "cell_type": "code",
      "metadata": {
        "id": "DyrdSzS4mIFI"
      },
      "source": [
        "# @markdown *Execute this cell to enable the plotting function: `plot_data`*\n",
        "\n",
        "def plot_data(X, y):\n",
        "  \"\"\"\n",
        "  Synthetic data generator in the form:\n",
        "      y = Xw + b + gaussian_noise(0, sigma).\n",
        "  \n",
        "  Parameters\n",
        "  ----------\n",
        "  X: torch.tensor\n",
        "      the independent variable(s).\n",
        "  y: torch.tensor\n",
        "      the dependent variable\n",
        "  \n",
        "  Returns\n",
        "  -------\n",
        "  Nothing.\n",
        "  \"\"\"\n",
        "\n",
        "  plt.figure()\n",
        "  plt.scatter(X, y)\n",
        "  plt.xlabel('x (independent variable)')\n",
        "  plt.ylabel('y (dependent variable)')\n",
        "  plt.show()"
      ],
      "execution_count": 19,
      "outputs": []
    },
    {
      "cell_type": "markdown",
      "metadata": {
        "id": "Cw463ZN4m4sG"
      },
      "source": [
        "## Coding Exercise 3: Exercise title\n",
        "\n",
        "Warn them when they will use a helper function. For example: In this exercise, you will also invoke `plot_data` which plots the data you have generated."
      ]
    },
    {
      "cell_type": "code",
      "metadata": {
        "id": "ztCl8eDHjyuX"
      },
      "source": [
        "def synthetic_dataset(weights, bias, num_examples=1000, sigma=0.01, seed=2021):\n",
        "  \"\"\"\n",
        "  Synthetic data generator in the form:\n",
        "      y = Xw + b + gaussian_noise(0, sigma).\n",
        "  \n",
        "  Parameters\n",
        "  ----------\n",
        "  weights : torch.tensor\n",
        "      weights. The length of `w` denotes the number of independent variables\n",
        "  bias : torch.tensor\n",
        "      bias (offset or intercept).\n",
        "  num_examples : INT, optional\n",
        "      DESCRIPTION. The default is 1000.\n",
        "  sigma : FLOAT, optional\n",
        "      Standard deviation of the Gaussian noise. The default is 0.01.\n",
        "  seed : INT, optional\n",
        "      Seed the RNG for reproducibility. The default is 2021.\n",
        "  \n",
        "  Returns\n",
        "  -------\n",
        "  X: torch.tensor\n",
        "      the independent variable(s).\n",
        "  y: torch.tensor\n",
        "      the dependent variable\n",
        "  \n",
        "  \"\"\"\n",
        "\n",
        "  # Set the seed for reproducibility\n",
        "  set_seed(seed)\n",
        "\n",
        "  X = torch.normal(0, 1, (weights.shape[0], num_examples))\n",
        "  #################################################\n",
        "  ## TODO for students: details of what they should do ##\n",
        "  # Fill out function and remove\n",
        "  raise NotImplementedError(\"Student exercise: say what they should have done\")\n",
        "  #################################################\n",
        "  # Have a comment for every line of code they need to write, and when possible have\n",
        "  # variables written with ellipses where they should fill in or ellipses where they should\n",
        "  # fill in inputs to functions\n",
        "  y = ...\n",
        "  # Another comment because they need to add another line of code\n",
        "  y += ...\n",
        "\n",
        "  return X, y.reshape((-1, 1))\n",
        "\n",
        "\n",
        "w = torch.tensor([2.5]).reshape(-1,1)\n",
        "b = 1.2\n",
        "N = 50\n",
        "\n",
        "# Uncomment the code below to test your function\n",
        "# we usually define the plotting function in the hidden Helper Functions\n",
        "# so students don't have to see a bunch of boilerplate matplotlib code\n",
        "# xkcd style for solution plot\n",
        "# X, y = synthetic_dataset(weights=w, bias=b, num_examples=10, sigma=2.5,\n",
        "#                          seed=2021)\n",
        "# plot_data(X, y)"
      ],
      "execution_count": 20,
      "outputs": []
    },
    {
      "cell_type": "markdown",
      "metadata": {
        "id": "vd9JfcDrbQ_d"
      },
      "source": [
        "---\n",
        "__Editor guideline for exercise solution formatting:__\n",
        "- the presence of # to_remove solution in the first line of solution block\n",
        "- The absence of the fenced (#####) block that raises a NotImplementedError\n",
        "- Valid code replacing all ellipses  (...)\n",
        "- Code that uses or depends on the completed function/lines is uncommented\n",
        "- Plotting code is indented under a with plt.xkcd(): context manager.\n",
        "- Using ***SAME SEED*** such that student should be able to replicate sample results **exactly**.\n",
        "- **All other comments and code should be identical**\n",
        "---"
      ]
    },
    {
      "cell_type": "code",
      "metadata": {
        "cellView": "both",
        "colab": {
          "base_uri": "https://localhost:8080/",
          "height": 612
        },
        "id": "tycSi5Pxbsne",
        "outputId": "5ce00132-2182-4a68-cd4d-7cdcc4b3efa3"
      },
      "source": [
        "def synthetic_dataset(weights, bias, num_examples=1000, sigma=0.01, seed=2021):\n",
        "  \"\"\"\n",
        "  Synthetic data generator in the form:\n",
        "      y = Xw + b + gaussian_noise(0, sigma).\n",
        "  \n",
        "  Parameters\n",
        "  ----------\n",
        "  weights : torch.tensor\n",
        "      weights. The length of `w` denotes the number of independent variables\n",
        "  bias : torch.tensor\n",
        "      bias (offset or intercept).\n",
        "  num_examples : INT, optional\n",
        "      DESCRIPTION. The default is 1000.\n",
        "  sigma : FLOAT, optional\n",
        "      Standard deviation of the Gaussian noise. The default is 0.01.\n",
        "  seed : INT, optional\n",
        "      Seed the RNG for reproducibility. The default is 2021.\n",
        "  \n",
        "  Returns\n",
        "  -------\n",
        "  X: torch.tensor\n",
        "      the independent variable(s).\n",
        "  y: torch.tensor\n",
        "      the dependent variable\n",
        "  \n",
        "  \"\"\"\n",
        "\n",
        "  # Set the seed for reproducibility\n",
        "  set_seed(seed)\n",
        "\n",
        "  X = torch.normal(0, 1, (weights.shape[0], num_examples))\n",
        "  # Have a comment for every line of code they need to write, and when possible have\n",
        "  # variables written with ellipses where they should fill in or ellipses where they should\n",
        "  # fill in inputs to functions\n",
        "  y = torch.matmul(w.T, X) + b\n",
        "  # Another comment because they need to add another line of code\n",
        "  y += torch.normal(0, sigma, y.shape)\n",
        "\n",
        "  return X, y.reshape((-1, 1))\n",
        "\n",
        "\n",
        "w = torch.tensor([2.5]).reshape(-1,1)\n",
        "b = 1.2\n",
        "N = 50\n",
        "\n",
        "# Uncomment the code below to test your function\n",
        "# we usually define the plotting function in the hidden Helper Functions\n",
        "# so students don't have to see a bunch of boilerplate matplotlib code\n",
        "# xkcd style for solution plot\n",
        "X, y = synthetic_dataset(weights=w, bias=b, num_examples=10, sigma=2.5,\n",
        "                         seed=2021)\n",
        "with plt.xkcd():\n",
        "  plot_data(X, y)"
      ],
      "execution_count": 21,
      "outputs": [
        {
          "output_type": "stream",
          "name": "stdout",
          "text": [
            "Random seed 2021 has been set.\n"
          ]
        },
        {
          "output_type": "display_data",
          "data": {
            "text/plain": [
              "<Figure size 800x600 with 1 Axes>"
            ],
            "image/png": "[encoded data removed]"
          },
          "metadata": {
            "image/png": {
              "width": 777,
              "height": 577
            }
          }
        }
      ]
    },
    {
      "cell_type": "markdown",
      "metadata": {
        "id": "EuqpiL2Av-vd"
      },
      "source": [
        "---\n",
        "# Section 4: Code Style Guide\n",
        "\n",
        "This section will give you the information you'll need to write clear code in your networks and exercises. All code should be written in pytorch and follow standard PEP8 styleguides. "
      ]
    },
    {
      "cell_type": "code",
      "metadata": {
        "colab": {
          "base_uri": "https://localhost:8080/",
          "height": 582,
          "referenced_widgets": [
            "c3d1a876fdab4714a852d3126da3cf34",
            "5762f8db70d4468dba6451571cb725a9",
            "9d1a7c16c5664ff5ba16fab43c82c048",
            "a0c693fc4300438eb05b7854c5ea2245",
            "fb7b2cfefb1d4d8ab794c74cd8a27af2",
            "dc5466ab3c0144289698be7f3b4c1b5e",
            "915c85ac0bdc4e51be94de5cef7500e5",
            "790f8997923841b6996128eaf2fa7f10"
          ]
        },
        "id": "AFd7Ji-twKIK",
        "outputId": "f1e3b88e-7bfb-47f7-90b7-96a5166b5c79",
        "cellView": "form"
      },
      "source": [
        "# @title Video 3: Video 3 Name\n",
        "from ipywidgets import widgets\n",
        "from IPython.display import YouTubeVideo\n",
        "from IPython.display import IFrame\n",
        "from IPython.display import display\n",
        "\n",
        "\n",
        "class PlayVideo(IFrame):\n",
        "  def __init__(self, id, source, page=1, width=400, height=300, **kwargs):\n",
        "    self.id = id\n",
        "    if source == 'Bilibili':\n",
        "      src = f'https://player.bilibili.com/player.html?bvid={id}&page={page}'\n",
        "    elif source == 'Osf':\n",
        "      src = f'https://mfr.ca-1.osf.io/render?url=https://osf.io/download/{id}/?direct%26mode=render'\n",
        "    super(PlayVideo, self).__init__(src, width, height, **kwargs)\n",
        "\n",
        "\n",
        "def display_videos(video_ids, W=400, H=300, fs=1):\n",
        "  tab_contents = []\n",
        "  for i, video_id in enumerate(video_ids):\n",
        "    out = widgets.Output()\n",
        "    with out:\n",
        "      if video_ids[i][0] == 'Youtube':\n",
        "        video = YouTubeVideo(id=video_ids[i][1], width=W,\n",
        "                             height=H, fs=fs, rel=0)\n",
        "        print(f'Video available at https://youtube.com/watch?v={video.id}')\n",
        "      else:\n",
        "        video = PlayVideo(id=video_ids[i][1], source=video_ids[i][0], width=W,\n",
        "                          height=H, fs=fs, autoplay=False)\n",
        "        if video_ids[i][0] == 'Bilibili':\n",
        "          print(f'Video available at https://www.bilibili.com/video/{video.id}')\n",
        "        elif video_ids[i][0] == 'Osf':\n",
        "          print(f'Video available at https://osf.io/{video.id}')  \n",
        "      display(video)\n",
        "    tab_contents.append(out)\n",
        "  return tab_contents\n",
        "\n",
        "\n",
        "video_ids = [('Youtube', 'video_id_youtube'), ('Bilibili', 'video_id_bilibili'), ('Osf', 'video_id_osf')]\n",
        "tab_contents = display_videos(video_ids, W=854, H=480)\n",
        "tabs = widgets.Tab()\n",
        "tabs.children = tab_contents\n",
        "for i in range(len(tab_contents)):\n",
        "  tabs.set_title(i, video_ids[i][0])\n",
        "display(tabs)"
      ],
      "execution_count": 22,
      "outputs": [
        {
          "output_type": "display_data",
          "data": {
            "text/plain": [
              "Tab(children=(Output(), Output(), Output()), _titles={'0': 'Youtube', '1': 'Bilibili', '2': 'Osf'})"
            ],
            "application/vnd.jupyter.widget-view+json": {
              "version_major": 2,
              "version_minor": 0,
              "model_id": "c3d1a876fdab4714a852d3126da3cf34"
            }
          },
          "metadata": {}
        }
      ]
    },
    {
      "cell_type": "markdown",
      "metadata": {
        "id": "_Z6vKsN89rN1"
      },
      "source": [
        "## Section 4.1 Building your network\n",
        "\n",
        "## Layer names guide\n",
        " Having consistent layer promotes learning by focusing attention on relevant changes to code. Students will take just as long to figure out why output layer is called 'fc' vs 'out' or 'linear' as they do to figure out which layer to use. For these common layers please adhere to the naming conventions below.\n",
        "for multiple layers please use: name1 , name2 to differentiate  \n",
        "\n",
        "\n",
        "\n",
        "\n",
        "\n",
        "---\n",
        "Layer guide\n",
        "1.   self.fc  = nn.Linear()    (for Fully Connected)\n",
        "2.   self.conv = nn.Conv2d()  \n",
        "3.   self.pool = nn.MaxPool()  \n",
        "4.   self.dropout = nn.Dropout() \n",
        "5.   self.batch_norm = nn.BatchNorm2d() \n",
        "6.   self.relu = F.Relu() \n",
        "7.   etc...\n",
        "---\n",
        "\n",
        "\n",
        " If there is some edge case and you feel the name is not elegant enough or you have important reason to name layers do so as:  name_* .\n",
        "\n",
        " For example, if you want a linear encoding and decoding layer, fc1 and fc2 would be confusing, so for clarity, you should write the layers as\n",
        "\n",
        "  fc_encoding_layer, fc_decoding_layer. \n",
        "\n",
        "\n",
        "\n",
        "\n",
        "\n",
        "\n"
      ]
    },
    {
      "cell_type": "code",
      "metadata": {
        "id": "mjXZX2bBFq5A"
      },
      "source": [
        "class CNN(nn.Module):\n",
        "  def __init__(self):\n",
        "    super(CNN, self).__init__()\n",
        "\n",
        "    ####################################################################\n",
        "    # Fill in missing code below (...),\n",
        "    # then remove or comment the line below to test your function\n",
        "    raise NotImplementedError(\"Define the required layers\")\n",
        "    ####################################################################\n",
        "    self.conv1 = nn.Conv2d(...)\n",
        "    self.conv2 = nn.Conv2d(...)\n",
        "    self.fc1 = nn.Linear(...)\n",
        "    self.fc2 = nn.Linear(...)\n",
        "    self.pool = nn.MaxPool2d(...)\n",
        "\n",
        "  def forward(self, x):\n",
        "    ####################################################################\n",
        "    # Fill in missing code below (...),\n",
        "    # then remove or comment the line below to test your function\n",
        "    # Hint: Do not forget to flatten the image as it goes from Convolution Layers to Linear Layers!\n",
        "    raise NotImplementedError(\"Define forward pass for any input x\")\n",
        "    ####################################################################\n",
        "    x = ...\n"
      ],
      "execution_count": 23,
      "outputs": []
    },
    {
      "cell_type": "code",
      "metadata": {
        "id": "msrOpAg6Hclj"
      },
      "source": [
        "# to_remove solution\n",
        "class CNN(nn.Module):\n",
        "  def __init__(self):\n",
        "  \n",
        "    super(CNN, self).__init__()\n",
        "    self.conv1 = nn.Conv2d(1, 32, 3)\n",
        "    self.conv2 = nn.Conv2d(32, 64, 3)\n",
        "    self.fc1 = nn.Linear(9216, 128)\n",
        "    self.fc2 = nn.Linear(128, 2)\n",
        "    self.pool = nn.MaxPool2d(2)\n",
        "\n",
        "  def forward(self, x):\n",
        "    x = self.conv1(x)\n",
        "    x = F.relu(x)\n",
        "    x = self.conv2(x)\n",
        "    x = F.relu(x)\n",
        "    x = self.pool(x)\n",
        "    x = torch.flatten(x, 1)\n",
        "    x = self.fc1(x)\n",
        "    x = F.relu(x)        \n",
        "    x = self.fc2(x)\n",
        "    return x\n"
      ],
      "execution_count": 24,
      "outputs": []
    },
    {
      "cell_type": "markdown",
      "metadata": {
        "id": "Ersfq2c8VGGH"
      },
      "source": [
        "## Section 4.2: Model Training\n",
        "Training models is often a time consuming process of DL. Given the limited time and different compute power the class will have, that is time we cannot afford. \n",
        "\n",
        "For your lectures you should make use of what we like to call the 'cooking show' method of tutorial preparation. They are as follows.\n",
        "\n",
        "\n",
        "\n",
        "1.   Ingredients\n",
        "2.   Recipe\n",
        "3.   \"Here is one I already prepared\"\n",
        "4.   Tasting \n",
        "\n",
        "\n",
        "\n",
        "---\n",
        "1.   have an exercise to demonstrate the intuition of what the  key pieces of the network are doing\n",
        "2.   have an exercise that shows how the pieces all fit together \n",
        "3.   If training will take more than 5 minutes, load pretrained network.\n",
        "4.   Have students evaluate how pretrained or state of the art model performs. Have them try and break it! Understanding the current limits of DL shows students that DL isn't magic and gives insight as to what DL is good for. Plus students love it!  \n",
        "---\n",
        "\n"
      ]
    },
    {
      "cell_type": "markdown",
      "metadata": {
        "id": "Y6Pux46LWw7e"
      },
      "source": [
        "## Section 4.3: Munging Guide\n",
        "Data Munging- ( transformation,permutation,manipulation ) is one of the hardest sections for a new student to master. Our general aim is to mitigate that as much as possible by doing several things\n",
        "\n",
        "---\n",
        "*   Putting Munging operations in their own lines for code exercises \n",
        "*   Providing clear,descriptive code hints for what transformation needs to occur (i.e don't use `.view` !) \n",
        "*   use operations that are explicit to allow the student more insight.\n",
        "\n",
        "\n",
        "---\n",
        "\n",
        "## Examples \n",
        "Here is an example of a network that uses thes approaches well note how:\n",
        "\n",
        "\n",
        "1.   Tensor inputs and outputs shapes are clearly labeled\n",
        "2.   Hints are given when changes in these shapes occur\n",
        "\n",
        "\n"
      ]
    },
    {
      "cell_type": "code",
      "metadata": {
        "id": "DTY-kaQ-re74"
      },
      "source": [
        "class Encoder(nn.Module):\n",
        "  \"\"\"The RNN encoder for sequence to sequence learning.\"\"\"\n",
        "  def __init__(self, vocab_size, embed_size, num_hiddens, num_layers,\n",
        "                dropout=0):\n",
        "    super(Encoder, self).__init__()\n",
        "\n",
        "    self.embedding = nn.Embedding(vocab_size, embed_size)\n",
        "    self.gru = nn.GRU(embed_size, num_hiddens, num_layers,\n",
        "                      dropout=dropout)\n",
        "\n",
        "  def forward(self, X):\n",
        "    \"\"\"Hint: always make sure your sizes are correct\"\"\"\n",
        "    ####################################################################\n",
        "    # Fill in missing code below (...),\n",
        "    # then remove or comment the line below to test your function\n",
        "    raise NotImplementedError(\"Encoder Forward\")\n",
        "    ####################################################################\n",
        "\n",
        "    # The output `X` shape: (`batch_size`, `num_steps`, `embed_size`)\n",
        "\n",
        "    # Embedding layer + reshape\n",
        "    X = ...\n",
        "\n",
        "    # Recurrent unit\n",
        "\n",
        "    # `output` shape: (`num_steps`, `batch_size`, `num_hiddens`)\n",
        "    # `state` shape: (`num_layers`, `batch_size`, `num_hiddens`)\n",
        "    return output, state\n",
        "\n",
        "\n",
        "class Decoder(nn.Module):\n",
        "    \"\"\"The RNN decoder for sequence to sequence learning.\"\"\"\n",
        "    def __init__(self, vocab_size, embed_size, num_hiddens, num_layers,\n",
        "                 dropout=0):\n",
        "        super(Decoder, self).__init__()\n",
        "        self.embedding = nn.Embedding(vocab_size, embed_size)\n",
        "        \n",
        "        self.gru = nn.GRU(embed_size + num_hiddens, num_hiddens, num_layers,\n",
        "                          dropout=dropout)\n",
        "        self.dense = nn.Linear(num_hiddens, vocab_size)\n",
        "        \n",
        "    def init_state(self, enc_outputs):\n",
        "        return enc_outputs[1]\n",
        "\n",
        "    def forward(self, X, state):\n",
        "        \"\"\"Hint: always make sure your sizes are correct\"\"\"\n",
        "        ####################################################################\n",
        "        # Fill in missing code below (...),\n",
        "        # then remove or comment the line below to test your function\n",
        "        raise NotImplementedError(\"Decoder Forward\")\n",
        "        ####################################################################\n",
        "\n",
        "        # The output `X` shape: (`num_steps`, `batch_size`, `embed_size`)\n",
        "        X = ...\n",
        "        # Broadcast `context` so it has the same `num_steps` as `X`\n",
        "        context = ...\n",
        "\n",
        "        # Concatenate X and context \n",
        "        X_and_context = ...\n",
        "\n",
        "        # Recurrent unit\n",
        "        output, state = self.rnn(X_and_context, state)\n",
        "\n",
        "        # Linear layer\n",
        "        output = ...\n",
        "\n",
        "        # `output` shape: (`batch_size`, `num_steps`, `vocab_size`)\n",
        "        # `state` shape: (`num_layers`, `batch_size`, `num_hiddens`)\n",
        "        return output, state\n",
        "\n",
        "# # Uncomment to run\n",
        "# encoder = Encoder(1000, 300, 100, 2, 0.1)\n",
        "# decoder = Decoder(1000, 300, 100, 2, 0.1)\n",
        "# print(encoder)\n",
        "# print(decoder)"
      ],
      "execution_count": 25,
      "outputs": []
    },
    {
      "cell_type": "markdown",
      "metadata": {
        "id": "EDporX7Trenr"
      },
      "source": [
        "### Here's a bad example \n",
        "\n",
        "Look at the LSTM's forward method, the first instance is what the student see's and forward method after the `#solution to_remove` is the perscribed answer\n"
      ]
    },
    {
      "cell_type": "code",
      "metadata": {
        "id": "tKtCYIqMueeK"
      },
      "source": [
        "class LSTM(nn.Module):\n",
        "  def __init__(self, layers, output_size, hidden_size, vocab_size, embed_size):\n",
        "    super(LSTM, self).__init__()\n",
        "\n",
        "    self.output_size = output_size\n",
        "    self.hidden_size = hidden_size\n",
        "    self.vocab_size = vocab_size\n",
        "    self.embed_size = embed_size\n",
        "    self.n_layers = layers\n",
        "\n",
        "    ####################################################################\n",
        "    # Fill in missing code below (...),\n",
        "    # then remove or comment the line below to test your function\n",
        "    raise NotImplementedError(\"LSTM Init\")\n",
        "    ####################################################################\n",
        "    self.word_embeddings = ...\n",
        "    self.dropout = ...\n",
        "    self.lstm = ...\n",
        "    self.fc = ...\n",
        "\n",
        "  def forward(self, input_sentences):\n",
        "    \"\"\"Hint: Make sure the shapes of your tensors match the requirement\"\"\"\n",
        "\n",
        "    ####################################################################\n",
        "    # Fill in missing code below (...),\n",
        "    # then remove or comment the line below to test your function\n",
        "    raise NotImplementedError(\"LSTM Forward\")\n",
        "    ####################################################################\n",
        "\n",
        "    # Embeddings \n",
        "    # `input` shape: (`num_steps`, `batch_size`, `num_hiddens`)\n",
        "    input = ...\n",
        "\n",
        "    # Initialize a random hidden state and cell state for this sequence\n",
        "    hidden = (torch.randn(self.n_layers, input.shape[1], self.hidden_size).to(device),\n",
        "            torch.randn(self.n_layers, input.shape[1], self.hidden_size).to(device))\n",
        "\n",
        "    # Dropout for regularization\n",
        "    input = self.dropout(input)\n",
        "\n",
        "    # LSTM \n",
        "    output, hidden = ...\n",
        "\n",
        "    # Pick the hidden state (not cell state) and reshape it for the linear layer\n",
        "    h_n = ...\n",
        "\n",
        "    # Linear \n",
        "    logits = self.fc(h_n)\n",
        "    return logits\n",
        "\n",
        "# # Uncomment to run\n",
        "# sampleLSTM = LSTM(3, 10, 100, 1000, 300)\n",
        "# print(sampleLSTM)\n",
        "\n",
        "\n",
        "\n",
        "# Solution - to remove\n",
        "class LSTM(nn.Module):\n",
        "  def __init__(self, layers, output_size, hidden_size, vocab_size, embed_size):\n",
        "    super(LSTM, self).__init__()\n",
        "\n",
        "    self.output_size = output_size\n",
        "    self.hidden_size = hidden_size\n",
        "    self.vocab_size = vocab_size\n",
        "    self.embed_size = embed_size\n",
        "    self.n_layers = layers\n",
        "\n",
        "    self.word_embeddings = nn.Embedding(vocab_size, embed_size)\n",
        "    self.dropout = nn.Dropout(0.5)\n",
        "    self.lstm = nn.LSTM(embed_size, hidden_size, num_layers=self.n_layers)\n",
        "    self.fc = nn.Linear(self.n_layers*self.hidden_size, output_size)\n",
        "\n",
        "  def forward(self, input_sentences):\n",
        "    input = self.word_embeddings(input_sentences).permute(1, 0, 2)\n",
        "    hidden = (torch.randn(self.n_layers, input.shape[1], self.hidden_size).to(device),\n",
        "            torch.randn(self.n_layers, input.shape[1], self.hidden_size).to(device))\n",
        "    input = self.dropout(input)\n",
        "    output, hidden = self.lstm(input, hidden)\n",
        "    h_n = hidden[0].permute(1, 0, 2)\n",
        "    h_n = h_n.contiguous().view(h_n.shape[0], -1)\n",
        "    logits = self.fc(h_n)\n",
        "    return logits"
      ],
      "execution_count": 26,
      "outputs": []
    },
    {
      "cell_type": "markdown",
      "metadata": {
        "id": "mGVjVQytvAEH"
      },
      "source": [
        "There are several problems with this section, including:\n",
        "\n",
        "1.   Too many composed functions written in one line\n",
        "2.   no code hints to students describing what manipulations need to occur\n",
        "3.   It is not obvious what is occuring in the two h_n manipulations as the code is generic \n",
        "4.   Using Logits as output and using output as a different variable is confusing \n",
        "\n"
      ]
    },
    {
      "cell_type": "markdown",
      "metadata": {
        "id": "_Q5mmpfWR1Gd"
      },
      "source": [
        "## Section 4.4: Munging Code Best Practices \n",
        "while not a complete list, here are some common operations and how to make them more interpretable"
      ]
    },
    {
      "cell_type": "code",
      "metadata": {
        "colab": {
          "base_uri": "https://localhost:8080/"
        },
        "id": "5vKsuzCRULET",
        "outputId": "71757b89-7b81-47d0-a4c0-bcec52ab0ced"
      },
      "source": [
        "# using rearrage instead of transpose allows users to understand from code\n",
        "# which dimensions are changing\n",
        "\n",
        "from einops import rearrange\n",
        "\n",
        "# `ims` is a input ( `batch_size`, `height`, `width`, `num_channels` ) tensor\n",
        "ims = torch.rand(5, 100, 128, 3)\n",
        "\n",
        "# ims.transpose(0,2,1,3) equivalent \n",
        "t = rearrange(ims, 'b h w c -> b w h c')\n",
        "print(t.shape)"
      ],
      "execution_count": 27,
      "outputs": [
        {
          "output_type": "stream",
          "name": "stdout",
          "text": [
            "torch.Size([5, 128, 100, 3])\n"
          ]
        }
      ]
    },
    {
      "cell_type": "markdown",
      "metadata": {
        "id": "rxAPhrthUlQA"
      },
      "source": [
        "Full einops tutorial [here](http://einops.rocks/1-einops-basics/#welcome-to-einops-land)"
      ]
    },
    {
      "cell_type": "markdown",
      "metadata": {
        "id": "xweIQTUCQ5vd"
      },
      "source": [
        "### Flattening tensors"
      ]
    },
    {
      "cell_type": "code",
      "metadata": {
        "colab": {
          "base_uri": "https://localhost:8080/"
        },
        "id": "g4oiA3clUykv",
        "outputId": "d1929a46-3e5c-4343-866f-246501e68741"
      },
      "source": [
        "# Flatten Tensors with rearrange or torch.flatten\n",
        "# ims.view(-1)\n",
        "\n",
        "t = torch.flatten(ims, start_dim=1, end_dim = 2)\n",
        "print(t.shape)"
      ],
      "execution_count": 28,
      "outputs": [
        {
          "output_type": "stream",
          "name": "stdout",
          "text": [
            "torch.Size([5, 12800, 3])\n"
          ]
        }
      ]
    },
    {
      "cell_type": "markdown",
      "metadata": {
        "id": "WhzpNLFSQ9IT"
      },
      "source": [
        "### Adding dimensions"
      ]
    },
    {
      "cell_type": "code",
      "metadata": {
        "colab": {
          "base_uri": "https://localhost:8080/"
        },
        "id": "LC93wfg70qmi",
        "outputId": "b16ac7a8-6d52-4bee-e645-4d752f3a854a"
      },
      "source": [
        "# Add dimensions using unsqueeze \n",
        "im = torch.rand(100, 128)\n",
        "\n",
        "# lets say im is one image from our dataset and we want to set it back to \n",
        "# a 4-d `batch` , `height`, `width`, `channels` tensor \n",
        "\n",
        "t = im.unsqueeze(0).unsqueeze(3) \n",
        "print(t.shape)"
      ],
      "execution_count": 29,
      "outputs": [
        {
          "output_type": "stream",
          "name": "stdout",
          "text": [
            "torch.Size([1, 100, 128, 1])\n"
          ]
        }
      ]
    },
    {
      "cell_type": "markdown",
      "metadata": {
        "id": "iNIu3GJyxD2c"
      },
      "source": [
        "---\n",
        "# Section 5: NLP Specific info\n",
        "\n",
        "From Dr. Lyle Ungar \n",
        "\n",
        "1.   This is a international class so use Glove for word embedding.\n",
        "2.   Use smaller networks, RoBERTA works even better than BERT and is same size. it will have a warning that CLS token is untrained but can suppress.\n",
        "3.   Training times for NLp can be quite large so be sure to use pretrained models when appropriate\n",
        "\n",
        "\n",
        "\n",
        "\n",
        "\n",
        "\n",
        "\n",
        "\n",
        "\n",
        "\n"
      ]
    },
    {
      "cell_type": "code",
      "metadata": {
        "id": "JQycBYKgd47Q"
      },
      "source": [],
      "execution_count": 29,
      "outputs": []
    },
    {
      "cell_type": "markdown",
      "metadata": {
        "id": "jENvGy_Jd6AD"
      },
      "source": [
        "---\n",
        "# Section 6: RL Specific Info\n",
        "### TO-DO"
      ]
    }
  ]
}